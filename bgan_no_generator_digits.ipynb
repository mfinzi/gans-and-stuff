{
 "cells": [
  {
   "cell_type": "code",
   "execution_count": 1,
   "metadata": {},
   "outputs": [],
   "source": [
    "import numpy as np\n",
    "import torch\n",
    "import torchvision\n",
    "\n",
    "import torchvision.transforms as transforms\n",
    "from datasets import SynthDataset\n",
    "from synth_utils import js_div, kl_div, pca\n",
    "from priors import FactorizedNormalPrior\n",
    "import torch.nn.functional as F\n",
    "\n",
    "from bgan_nogen import BGANNG, FixedSizeDataset\n",
    "from datasets import DigitsDataset\n",
    "\n",
    "from matplotlib import pyplot as plt\n",
    "%matplotlib inline\n",
    "%load_ext autoreload\n",
    "%autoreload 2"
   ]
  },
  {
   "cell_type": "markdown",
   "metadata": {},
   "source": [
    "## Dataset"
   ]
  },
  {
   "cell_type": "code",
   "execution_count": 179,
   "metadata": {},
   "outputs": [],
   "source": [
    "data = DigitsDataset()\n",
    "trainloader = torch.utils.data.DataLoader(data, batch_size=50, shuffle=True)"
   ]
  },
  {
   "cell_type": "code",
   "execution_count": 180,
   "metadata": {},
   "outputs": [
    {
     "data": {
      "image/png": "[encoded data removed]",
      "text/plain": [
       "<matplotlib.figure.Figure at 0x10dbcfef0>"
      ]
     },
     "metadata": {},
     "output_type": "display_data"
    }
   ],
   "source": [
    "def imshow(img):\n",
    "#     img = img / 2 + 0.5     # unnormalize\n",
    "    npimg = img.numpy()\n",
    "    plt.imshow(np.transpose(npimg, (1, 2, 0)))\n",
    "\n",
    "\n",
    "# get some random training images\n",
    "dataiter = iter(trainloader)\n",
    "images = data.inverse_transform(dataiter.next())\n",
    "images = torch.from_numpy(images)\n",
    "# images = images.view(-1, 1, 8, 8)\n",
    "\n",
    "# show images\n",
    "imshow(torchvision.utils.make_grid(images))"
   ]
  },
  {
   "cell_type": "markdown",
   "metadata": {},
   "source": [
    "## BGAN-NG"
   ]
  },
  {
   "cell_type": "code",
   "execution_count": 181,
   "metadata": {
    "collapsed": true
   },
   "outputs": [],
   "source": [
    "import torch.nn as nn\n",
    "import torch.optim as optim\n",
    "from torch.autograd import Variable"
   ]
  },
  {
   "cell_type": "code",
   "execution_count": 182,
   "metadata": {
    "collapsed": true
   },
   "outputs": [],
   "source": [
    "def weights_init(m):\n",
    "    classname = m.__class__.__name__\n",
    "    if classname.find('Linear') != -1:\n",
    "        m.weight.data.normal_(0.0, 0.02)\n",
    "\n",
    "class GeneratorNetwork(nn.Module):\n",
    "    \n",
    "    def __init__(self, num_samples, shape=None, init=None):\n",
    "        super(GeneratorNetwork, self).__init__()\n",
    "        self.build_net(shape, num_samples, init)\n",
    "        self.output_dim = shape\n",
    "    \n",
    "    def build_net(self, shape, num_samples, init):\n",
    "        if init is None:\n",
    "            z = torch.from_numpy(np.random.normal(size=[num_samples] + shape)).float()\n",
    "        else:\n",
    "            z = torch.from_numpy(init).float()\n",
    "        self.z_v = Variable(z, requires_grad=True)\n",
    "    \n",
    "    \n",
    "    def forward(self):\n",
    "        output = self.z_v\n",
    "        return output\n",
    "    \n",
    "    def parameters(self):\n",
    "        return [self.z_v]\n",
    "\n",
    "\n",
    "class DiscriminatorNetwork(nn.Module):\n",
    "    \n",
    "    def __init__(self, x_dim, K, h_dim):\n",
    "        super(DiscriminatorNetwork, self).__init__()\n",
    "        self.build_net(x_dim, K, h_dim)\n",
    "        self.x_dim = x_dim\n",
    "        self.K = K\n",
    "    \n",
    "    def build_net(self, x_dim, K, h_dim):\n",
    "        self.network = nn.Sequential(\n",
    "            nn.Linear(x_dim, h_dim),\n",
    "            nn.ReLU(True),\n",
    "            nn.Linear(h_dim, K),\n",
    "            nn.Softmax()\n",
    "        )\n",
    "    \n",
    "    def forward(self, input):\n",
    "        output = self.network(input.view(-1, 64))\n",
    "        return output"
   ]
  },
  {
   "cell_type": "code",
   "execution_count": 183,
   "metadata": {
    "collapsed": true
   },
   "outputs": [],
   "source": [
    "batch_size = 50"
   ]
  },
  {
   "cell_type": "code",
   "execution_count": 278,
   "metadata": {
    "collapsed": true
   },
   "outputs": [],
   "source": [
    "# prior = FactorizedNormalPrior(std=5.)\n",
    "# init = data[0].numpy().reshape([1, -1])\n",
    "# gen = GeneratorNetwork(1, init=init)\n",
    "# disc = DiscriminatorNetwork(2, 2, 100)\n",
    "# gen.apply(weights_init)\n",
    "# disc.apply(weights_init)\n",
    "# bgan = BGANNG(gen, prior, disc, alpha=.01, eta=1e-4, num_data=len(data), disc_lr=1e-3, observed_gen=100)\n",
    "# samples = []"
   ]
  },
  {
   "cell_type": "code",
   "execution_count": 279,
   "metadata": {},
   "outputs": [],
   "source": [
    "prior = FactorizedNormalPrior(std=5.)\n",
    "disc = DiscriminatorNetwork(x_dim=64, K=2, h_dim=200)\n",
    "init = np.copy(data[0].numpy()[:, None])\n",
    "gen = GeneratorNetwork(1, init=init)\n",
    "gen.apply(weights_init)\n",
    "disc.apply(weights_init)\n",
    "bgan = BGANNG(gen, prior, disc, alpha=.01, eta=1e-6, num_data=len(data), disc_lr=5e-5, observed_gen=200)\n",
    "samples = []"
   ]
  },
  {
   "cell_type": "code",
   "execution_count": 293,
   "metadata": {
    "collapsed": true
   },
   "outputs": [],
   "source": [
    "# init = np.copy(data[0].numpy()[:, None])\n",
    "# gen = GeneratorNetwork(1, init=init)\n",
    "# gen.apply(weights_init)\n",
    "# bgan = BGANNG(gen, prior, disc, alpha=.01, eta=1e-6, num_data=len(data), disc_lr=1e-4, observed_gen=100)"
   ]
  },
  {
   "cell_type": "code",
   "execution_count": 294,
   "metadata": {},
   "outputs": [
    {
     "data": {
      "text/plain": [
       "Variable containing:\n",
       "(0 ,0 ,.,.) = \n",
       "  0.0000 -0.3350 -0.0431  0.2741 -0.6645 -0.8441 -0.4097 -0.1250\n",
       " -0.0591 -0.6240  0.4830  0.7596 -0.0584  1.1277  0.8796 -0.1304\n",
       " -0.0446  0.1114  0.8959 -0.8607 -1.1496  0.5155  1.9060 -0.1142\n",
       " -0.0334  0.4865  0.4699 -1.4999 -1.6141  0.0764  1.5418 -0.0472\n",
       "  0.0000  0.7647  0.0526 -1.4476 -1.7367  0.0436  1.4396  0.0000\n",
       " -0.0613  0.8106  0.6301 -1.1225 -1.0662  0.6610  0.8185 -0.0887\n",
       " -0.0354  0.7421  1.1507 -0.8687  0.1101  0.5376 -0.7574 -0.2098\n",
       " -0.0236 -0.2991  0.0867  0.2083 -0.3668 -1.1466 -0.5057 -0.1960\n",
       "[torch.FloatTensor of size 1x1x8x8]"
      ]
     },
     "execution_count": 294,
     "metadata": {},
     "output_type": "execute_result"
    }
   ],
   "source": [
    "gen.forward()"
   ]
  },
  {
   "cell_type": "code",
   "execution_count": 295,
   "metadata": {
    "scrolled": false
   },
   "outputs": [
    {
     "ename": "RuntimeError",
     "evalue": "Assertion `x >= 0. && x <= 1.' failed. input value should be between 0~1, but got nan at /Users/soumith/code/builder/wheel/pytorch-src/torch/lib/THNN/generic/BCECriterion.c:32",
     "output_type": "error",
     "traceback": [
      "\u001b[0;31m---------------------------------------------------------------------------\u001b[0m",
      "\u001b[0;31mRuntimeError\u001b[0m                              Traceback (most recent call last)",
      "\u001b[0;32m<ipython-input-295-61c07a0c9944>\u001b[0m in \u001b[0;36m<module>\u001b[0;34m()\u001b[0m\n\u001b[1;32m      6\u001b[0m     \u001b[0;32mfor\u001b[0m \u001b[0mi\u001b[0m\u001b[0;34m,\u001b[0m \u001b[0mdata_\u001b[0m \u001b[0;32min\u001b[0m \u001b[0menumerate\u001b[0m\u001b[0;34m(\u001b[0m\u001b[0mtrainloader\u001b[0m\u001b[0;34m,\u001b[0m \u001b[0;36m0\u001b[0m\u001b[0;34m)\u001b[0m\u001b[0;34m:\u001b[0m\u001b[0;34m\u001b[0m\u001b[0m\n\u001b[1;32m      7\u001b[0m         \u001b[0mbatch\u001b[0m \u001b[0;34m=\u001b[0m \u001b[0mdata_\u001b[0m\u001b[0;34m.\u001b[0m\u001b[0mfloat\u001b[0m\u001b[0;34m(\u001b[0m\u001b[0;34m)\u001b[0m\u001b[0;34m\u001b[0m\u001b[0m\n\u001b[0;32m----> 8\u001b[0;31m         \u001b[0mbgan\u001b[0m\u001b[0;34m.\u001b[0m\u001b[0mstep\u001b[0m\u001b[0;34m(\u001b[0m\u001b[0mbatch\u001b[0m\u001b[0;34m)\u001b[0m\u001b[0;34m\u001b[0m\u001b[0m\n\u001b[0m\u001b[1;32m      9\u001b[0m \u001b[0;34m\u001b[0m\u001b[0m\n\u001b[1;32m     10\u001b[0m         \u001b[0;32mif\u001b[0m \u001b[0;32mnot\u001b[0m \u001b[0mi\u001b[0m\u001b[0;34m%\u001b[0m\u001b[0;36m100\u001b[0m\u001b[0;34m:\u001b[0m\u001b[0;34m\u001b[0m\u001b[0m\n",
      "\u001b[0;32m~/Documents/Education/Projects/bayesganfuture/bgan_nogen.py\u001b[0m in \u001b[0;36mstep\u001b[0;34m(self, x_batch)\u001b[0m\n\u001b[1;32m    165\u001b[0m         \u001b[0mself\u001b[0m\u001b[0;34m.\u001b[0m\u001b[0mdiscriminator\u001b[0m\u001b[0;34m.\u001b[0m\u001b[0mzero_grad\u001b[0m\u001b[0;34m(\u001b[0m\u001b[0;34m)\u001b[0m\u001b[0;34m\u001b[0m\u001b[0m\n\u001b[1;32m    166\u001b[0m         \u001b[0mself\u001b[0m\u001b[0;34m.\u001b[0m\u001b[0mgenerator\u001b[0m\u001b[0;34m.\u001b[0m\u001b[0mzero_grad\u001b[0m\u001b[0;34m(\u001b[0m\u001b[0;34m)\u001b[0m\u001b[0;34m\u001b[0m\u001b[0m\n\u001b[0;32m--> 167\u001b[0;31m         \u001b[0md_loss\u001b[0m\u001b[0;34m,\u001b[0m \u001b[0mg_loss\u001b[0m \u001b[0;34m=\u001b[0m \u001b[0mself\u001b[0m\u001b[0;34m.\u001b[0m\u001b[0mloss\u001b[0m\u001b[0;34m(\u001b[0m\u001b[0mbatchv\u001b[0m\u001b[0;34m)\u001b[0m\u001b[0;34m\u001b[0m\u001b[0m\n\u001b[0m\u001b[1;32m    168\u001b[0m         \u001b[0md_loss\u001b[0m\u001b[0;34m.\u001b[0m\u001b[0mbackward\u001b[0m\u001b[0;34m(\u001b[0m\u001b[0mretain_graph\u001b[0m\u001b[0;34m=\u001b[0m\u001b[0;32mTrue\u001b[0m\u001b[0;34m)\u001b[0m\u001b[0;34m\u001b[0m\u001b[0m\n\u001b[1;32m    169\u001b[0m         \u001b[0mself\u001b[0m\u001b[0;34m.\u001b[0m\u001b[0md_optimizer\u001b[0m\u001b[0;34m.\u001b[0m\u001b[0mstep\u001b[0m\u001b[0;34m(\u001b[0m\u001b[0;34m)\u001b[0m\u001b[0;34m\u001b[0m\u001b[0m\n",
      "\u001b[0;32m~/Documents/Education/Projects/bayesganfuture/bgan_nogen.py\u001b[0m in \u001b[0;36mloss\u001b[0;34m(self, x_batch)\u001b[0m\n\u001b[1;32m    109\u001b[0m         \u001b[0mbce\u001b[0m \u001b[0;34m=\u001b[0m \u001b[0mnn\u001b[0m\u001b[0;34m.\u001b[0m\u001b[0mBCELoss\u001b[0m\u001b[0;34m(\u001b[0m\u001b[0;34m)\u001b[0m\u001b[0;34m\u001b[0m\u001b[0m\n\u001b[1;32m    110\u001b[0m         \u001b[0mbce_real\u001b[0m \u001b[0;34m=\u001b[0m \u001b[0mbce\u001b[0m\u001b[0;34m(\u001b[0m\u001b[0md_logits_real\u001b[0m\u001b[0;34m,\u001b[0m \u001b[0my_real\u001b[0m\u001b[0;34m)\u001b[0m\u001b[0;34m\u001b[0m\u001b[0m\n\u001b[0;32m--> 111\u001b[0;31m         \u001b[0mbce_fake\u001b[0m \u001b[0;34m=\u001b[0m \u001b[0mbce\u001b[0m\u001b[0;34m(\u001b[0m\u001b[0md_logits_fake\u001b[0m\u001b[0;34m,\u001b[0m \u001b[0my_fake\u001b[0m\u001b[0;34m)\u001b[0m\u001b[0;34m\u001b[0m\u001b[0m\n\u001b[0m\u001b[1;32m    112\u001b[0m         \u001b[0mbce_gen\u001b[0m \u001b[0;34m=\u001b[0m \u001b[0mbce\u001b[0m\u001b[0;34m(\u001b[0m\u001b[0md_logits_gen\u001b[0m\u001b[0;34m,\u001b[0m \u001b[0my_gen\u001b[0m\u001b[0;34m)\u001b[0m\u001b[0;34m\u001b[0m\u001b[0m\n\u001b[1;32m    113\u001b[0m         \u001b[0mnoise_std\u001b[0m \u001b[0;34m=\u001b[0m \u001b[0mnp\u001b[0m\u001b[0;34m.\u001b[0m\u001b[0msqrt\u001b[0m\u001b[0;34m(\u001b[0m\u001b[0;36m2\u001b[0m \u001b[0;34m*\u001b[0m \u001b[0mself\u001b[0m\u001b[0;34m.\u001b[0m\u001b[0malpha\u001b[0m \u001b[0;34m*\u001b[0m \u001b[0mself\u001b[0m\u001b[0;34m.\u001b[0m\u001b[0meta\u001b[0m\u001b[0;34m)\u001b[0m\u001b[0;34m\u001b[0m\u001b[0m\n",
      "\u001b[0;32m/Library/Frameworks/Python.framework/Versions/3.6/lib/python3.6/site-packages/torch/nn/modules/module.py\u001b[0m in \u001b[0;36m__call__\u001b[0;34m(self, *input, **kwargs)\u001b[0m\n\u001b[1;32m    222\u001b[0m         \u001b[0;32mfor\u001b[0m \u001b[0mhook\u001b[0m \u001b[0;32min\u001b[0m \u001b[0mself\u001b[0m\u001b[0;34m.\u001b[0m\u001b[0m_forward_pre_hooks\u001b[0m\u001b[0;34m.\u001b[0m\u001b[0mvalues\u001b[0m\u001b[0;34m(\u001b[0m\u001b[0;34m)\u001b[0m\u001b[0;34m:\u001b[0m\u001b[0;34m\u001b[0m\u001b[0m\n\u001b[1;32m    223\u001b[0m             \u001b[0mhook\u001b[0m\u001b[0;34m(\u001b[0m\u001b[0mself\u001b[0m\u001b[0;34m,\u001b[0m \u001b[0minput\u001b[0m\u001b[0;34m)\u001b[0m\u001b[0;34m\u001b[0m\u001b[0m\n\u001b[0;32m--> 224\u001b[0;31m         \u001b[0mresult\u001b[0m \u001b[0;34m=\u001b[0m \u001b[0mself\u001b[0m\u001b[0;34m.\u001b[0m\u001b[0mforward\u001b[0m\u001b[0;34m(\u001b[0m\u001b[0;34m*\u001b[0m\u001b[0minput\u001b[0m\u001b[0;34m,\u001b[0m \u001b[0;34m**\u001b[0m\u001b[0mkwargs\u001b[0m\u001b[0;34m)\u001b[0m\u001b[0;34m\u001b[0m\u001b[0m\n\u001b[0m\u001b[1;32m    225\u001b[0m         \u001b[0;32mfor\u001b[0m \u001b[0mhook\u001b[0m \u001b[0;32min\u001b[0m \u001b[0mself\u001b[0m\u001b[0;34m.\u001b[0m\u001b[0m_forward_hooks\u001b[0m\u001b[0;34m.\u001b[0m\u001b[0mvalues\u001b[0m\u001b[0;34m(\u001b[0m\u001b[0;34m)\u001b[0m\u001b[0;34m:\u001b[0m\u001b[0;34m\u001b[0m\u001b[0m\n\u001b[1;32m    226\u001b[0m             \u001b[0mhook_result\u001b[0m \u001b[0;34m=\u001b[0m \u001b[0mhook\u001b[0m\u001b[0;34m(\u001b[0m\u001b[0mself\u001b[0m\u001b[0;34m,\u001b[0m \u001b[0minput\u001b[0m\u001b[0;34m,\u001b[0m \u001b[0mresult\u001b[0m\u001b[0;34m)\u001b[0m\u001b[0;34m\u001b[0m\u001b[0m\n",
      "\u001b[0;32m/Library/Frameworks/Python.framework/Versions/3.6/lib/python3.6/site-packages/torch/nn/modules/loss.py\u001b[0m in \u001b[0;36mforward\u001b[0;34m(self, input, target)\u001b[0m\n\u001b[1;32m    295\u001b[0m         \u001b[0m_assert_no_grad\u001b[0m\u001b[0;34m(\u001b[0m\u001b[0mtarget\u001b[0m\u001b[0;34m)\u001b[0m\u001b[0;34m\u001b[0m\u001b[0m\n\u001b[1;32m    296\u001b[0m         return F.binary_cross_entropy(input, target, weight=self.weight,\n\u001b[0;32m--> 297\u001b[0;31m                                       size_average=self.size_average)\n\u001b[0m\u001b[1;32m    298\u001b[0m \u001b[0;34m\u001b[0m\u001b[0m\n\u001b[1;32m    299\u001b[0m \u001b[0;34m\u001b[0m\u001b[0m\n",
      "\u001b[0;32m/Library/Frameworks/Python.framework/Versions/3.6/lib/python3.6/site-packages/torch/nn/functional.py\u001b[0m in \u001b[0;36mbinary_cross_entropy\u001b[0;34m(input, target, weight, size_average)\u001b[0m\n\u001b[1;32m    774\u001b[0m         \u001b[0mweight\u001b[0m \u001b[0;34m=\u001b[0m \u001b[0mweight\u001b[0m\u001b[0;34m.\u001b[0m\u001b[0mexpand\u001b[0m\u001b[0;34m(\u001b[0m\u001b[0mnew_size\u001b[0m\u001b[0;34m)\u001b[0m\u001b[0;34m\u001b[0m\u001b[0m\n\u001b[1;32m    775\u001b[0m \u001b[0;34m\u001b[0m\u001b[0m\n\u001b[0;32m--> 776\u001b[0;31m     \u001b[0;32mreturn\u001b[0m \u001b[0m_functions\u001b[0m\u001b[0;34m.\u001b[0m\u001b[0mthnn\u001b[0m\u001b[0;34m.\u001b[0m\u001b[0mBCELoss\u001b[0m\u001b[0;34m.\u001b[0m\u001b[0mapply\u001b[0m\u001b[0;34m(\u001b[0m\u001b[0minput\u001b[0m\u001b[0;34m,\u001b[0m \u001b[0mtarget\u001b[0m\u001b[0;34m,\u001b[0m \u001b[0mweight\u001b[0m\u001b[0;34m,\u001b[0m \u001b[0msize_average\u001b[0m\u001b[0;34m)\u001b[0m\u001b[0;34m\u001b[0m\u001b[0m\n\u001b[0m\u001b[1;32m    777\u001b[0m \u001b[0;34m\u001b[0m\u001b[0m\n\u001b[1;32m    778\u001b[0m \u001b[0;34m\u001b[0m\u001b[0m\n",
      "\u001b[0;32m/Library/Frameworks/Python.framework/Versions/3.6/lib/python3.6/site-packages/torch/nn/_functions/thnn/auto.py\u001b[0m in \u001b[0;36mforward\u001b[0;34m(ctx, input, target, *args)\u001b[0m\n\u001b[1;32m     45\u001b[0m         \u001b[0moutput\u001b[0m \u001b[0;34m=\u001b[0m \u001b[0minput\u001b[0m\u001b[0;34m.\u001b[0m\u001b[0mnew\u001b[0m\u001b[0;34m(\u001b[0m\u001b[0;36m1\u001b[0m\u001b[0;34m)\u001b[0m\u001b[0;34m\u001b[0m\u001b[0m\n\u001b[1;32m     46\u001b[0m         getattr(ctx._backend, update_output.name)(ctx._backend.library_state, input, target,\n\u001b[0;32m---> 47\u001b[0;31m                                                   output, *ctx.additional_args)\n\u001b[0m\u001b[1;32m     48\u001b[0m         \u001b[0;32mreturn\u001b[0m \u001b[0moutput\u001b[0m\u001b[0;34m\u001b[0m\u001b[0m\n\u001b[1;32m     49\u001b[0m \u001b[0;34m\u001b[0m\u001b[0m\n",
      "\u001b[0;31mRuntimeError\u001b[0m: Assertion `x >= 0. && x <= 1.' failed. input value should be between 0~1, but got nan at /Users/soumith/code/builder/wheel/pytorch-src/torch/lib/THNN/generic/BCECriterion.c:32"
     ]
    }
   ],
   "source": [
    "old_samples = None\n",
    "if isinstance(samples, np.ndarray):\n",
    "    old_samples = np.copy(samples)\n",
    "    samples = []\n",
    "for epoch in range(100000):\n",
    "    for i, data_ in enumerate(trainloader, 0):\n",
    "        batch = data_.float()\n",
    "        bgan.step(batch)\n",
    "        \n",
    "        if not i%100:\n",
    "            bgan.fake_dataset.append(np.copy(gen.z_v.data.numpy()[0, :]))\n",
    "    if not epoch%1:\n",
    "        samples.append(np.copy(gen.z_v.data.numpy()))\n",
    "    if not epoch%100:\n",
    "        print(epoch)\n",
    "        print(bgan.d_loss_fake)\n",
    "        print(bgan.d_loss_real)\n",
    "if old_samples is not None:\n",
    "    samples = np.vstack([old_samples, np.vstack(samples)])\n",
    "else:\n",
    "    samples = np.array(samples)"
   ]
  },
  {
   "cell_type": "code",
   "execution_count": 282,
   "metadata": {},
   "outputs": [
    {
     "data": {
      "text/plain": [
       "(1, 1, 8, 8)"
      ]
     },
     "execution_count": 282,
     "metadata": {},
     "output_type": "execute_result"
    }
   ],
   "source": [
    "samples[0].shape"
   ]
  },
  {
   "cell_type": "code",
   "execution_count": 283,
   "metadata": {
    "scrolled": false
   },
   "outputs": [
    {
     "data": {
      "image/png": "[encoded data removed]",
      "text/plain": [
       "<matplotlib.figure.Figure at 0x10d9c2cc0>"
      ]
     },
     "metadata": {},
     "output_type": "display_data"
    }
   ],
   "source": [
    "batch_samples_ = batch[:10]\n",
    "batch_np = data.inverse_transform(batch_samples_)\n",
    "imshow(torchvision.utils.make_grid(torch.from_numpy(batch_np)))"
   ]
  },
  {
   "cell_type": "code",
   "execution_count": 284,
   "metadata": {
    "collapsed": true
   },
   "outputs": [],
   "source": [
    "fake_samples = []\n",
    "for sample in bgan.fake_dataset:\n",
    "    fake_samples.append(sample)\n",
    "fake_samples = np.array(fake_samples)"
   ]
  },
  {
   "cell_type": "code",
   "execution_count": 285,
   "metadata": {},
   "outputs": [],
   "source": [
    "indices = (np.linspace(0, 1, 100) * (len(fake_samples)-1)).astype(int)"
   ]
  },
  {
   "cell_type": "code",
   "execution_count": 288,
   "metadata": {},
   "outputs": [],
   "source": [
    "# fake_samples_ = torch.from_numpy(fake_samples[indices]).view(-1, 1, 8, 8)\n",
    "fake_samples_ = torch.from_numpy(fake_samples[-100:]).view(-1, 1, 8, 8)\n",
    "fake_np = data.inverse_transform(fake_samples_)"
   ]
  },
  {
   "cell_type": "code",
   "execution_count": 289,
   "metadata": {},
   "outputs": [
    {
     "data": {
      "image/png": "[encoded data removed]",
      "text/plain": [
       "<matplotlib.figure.Figure at 0x10d81a550>"
      ]
     },
     "metadata": {},
     "output_type": "display_data"
    }
   ],
   "source": [
    "plt.figure(figsize=(10,10))\n",
    "imshow(torchvision.utils.make_grid(torch.from_numpy(fake_np)))"
   ]
  },
  {
   "cell_type": "code",
   "execution_count": 290,
   "metadata": {},
   "outputs": [],
   "source": [
    "sample_probs = disc(Variable(torch.from_numpy(fake_np)))[:, 0].data.numpy()"
   ]
  },
  {
   "cell_type": "code",
   "execution_count": 291,
   "metadata": {},
   "outputs": [
    {
     "data": {
      "text/plain": [
       "array([  2.67747234e-33,   3.58155570e-33,   4.75062230e-33,\n",
       "         6.43709964e-33,   8.44373829e-33,   1.13958028e-32,\n",
       "         1.53115809e-32,   2.06448958e-32,   2.79651135e-32,\n",
       "         3.81256282e-32,   5.05753447e-32,   6.35771703e-32,\n",
       "         7.55579616e-32,   8.73530306e-32,   9.73824542e-32,\n",
       "         1.04852227e-31,   1.15706307e-31,   1.29272875e-31,\n",
       "         1.42276676e-31,   1.51377647e-31,   1.62439202e-31,\n",
       "         1.79447500e-31,   1.99144659e-31,   2.16100225e-31,\n",
       "         2.39294233e-31,   2.72129951e-31,   2.95895015e-31,\n",
       "         3.12038996e-31,   3.32087781e-31,   3.59519328e-31,\n",
       "         3.83911189e-31,   4.25450526e-31,   4.80746956e-31,\n",
       "         5.46868936e-31,   6.54052157e-31,   7.53832443e-31,\n",
       "         8.23689110e-31,   9.31611905e-31,   1.04881490e-30,\n",
       "         1.13806087e-30,   1.12018612e-30,   1.07655769e-30,\n",
       "         1.07642623e-30,   1.16487146e-30,   1.27109129e-30,\n",
       "         1.32795211e-30,   1.35987929e-30,   1.39073724e-30,\n",
       "         1.40608986e-30,   1.41834020e-30,   1.44738516e-30,\n",
       "         1.50797334e-30,   1.59332071e-30,   1.68878553e-30,\n",
       "         1.83699562e-30,   1.99583575e-30,   2.09893939e-30,\n",
       "         2.17939022e-30,   2.25899150e-30,   2.35001915e-30,\n",
       "         2.50221238e-30,   2.81625501e-30,   3.14732537e-30,\n",
       "         3.46035482e-30,   3.76292029e-30,   4.08330250e-30,\n",
       "         4.47031737e-30,   4.96410926e-30,   5.48274978e-30,\n",
       "         5.99050917e-30,   6.54728988e-30,   7.16078959e-30,\n",
       "         7.43911581e-30,   7.68416482e-30,   8.10730743e-30,\n",
       "         8.90413536e-30,   9.46886165e-30,   1.03398582e-29,\n",
       "         1.11357006e-29,   1.18252580e-29,   1.24361427e-29,\n",
       "         1.29986068e-29,   1.37248674e-29,   1.38428592e-29,\n",
       "         1.39191095e-29,   1.45584159e-29,   1.51230038e-29,\n",
       "         1.51677215e-29,   1.54534317e-29,   1.66443816e-29,\n",
       "         1.77691593e-29,   1.90245858e-29,   2.04524883e-29,\n",
       "         2.18262767e-29,   2.35216397e-29,   2.64541614e-29,\n",
       "         3.08262812e-29,   3.69751015e-29,   4.35965780e-29,\n",
       "         5.09077692e-29], dtype=float32)"
      ]
     },
     "execution_count": 291,
     "metadata": {},
     "output_type": "execute_result"
    }
   ],
   "source": [
    "sample_probs"
   ]
  },
  {
   "cell_type": "code",
   "execution_count": 292,
   "metadata": {},
   "outputs": [
    {
     "data": {
      "text/plain": [
       "Variable containing:\n",
       " 1.0000\n",
       " 1.0000\n",
       " 1.0000\n",
       " 1.0000\n",
       " 1.0000\n",
       " 1.0000\n",
       " 0.9804\n",
       " 1.0000\n",
       " 1.0000\n",
       " 1.0000\n",
       " 1.0000\n",
       " 1.0000\n",
       " 1.0000\n",
       " 1.0000\n",
       " 1.0000\n",
       " 1.0000\n",
       " 1.0000\n",
       " 1.0000\n",
       " 1.0000\n",
       " 0.9977\n",
       " 1.0000\n",
       " 1.0000\n",
       " 1.0000\n",
       " 1.0000\n",
       " 1.0000\n",
       " 1.0000\n",
       " 1.0000\n",
       " 1.0000\n",
       " 1.0000\n",
       " 1.0000\n",
       " 1.0000\n",
       " 1.0000\n",
       " 1.0000\n",
       " 1.0000\n",
       " 1.0000\n",
       " 1.0000\n",
       " 1.0000\n",
       " 1.0000\n",
       " 1.0000\n",
       " 1.0000\n",
       " 1.0000\n",
       " 1.0000\n",
       " 0.9985\n",
       " 1.0000\n",
       " 1.0000\n",
       " 1.0000\n",
       " 1.0000\n",
       "[torch.FloatTensor of size 47]"
      ]
     },
     "execution_count": 292,
     "metadata": {},
     "output_type": "execute_result"
    }
   ],
   "source": [
    "disc(Variable(batch))[:, 0]"
   ]
  },
  {
   "cell_type": "code",
   "execution_count": 235,
   "metadata": {},
   "outputs": [
    {
     "name": "stdout",
     "output_type": "stream",
     "text": [
      "torch.Size([50, 1, 8, 8])\n",
      "torch.Size([50, 1, 8, 8])\n",
      "torch.Size([50, 1, 8, 8])\n",
      "torch.Size([50, 1, 8, 8])\n"
     ]
    }
   ],
   "source": [
    "for i, data_ in enumerate(trainloader, 0):\n",
    "    batch = data_.float()\n",
    "    print(batch.size())\n",
    "    if i == 3:\n",
    "        break"
   ]
  },
  {
   "cell_type": "code",
   "execution_count": 236,
   "metadata": {},
   "outputs": [
    {
     "data": {
      "text/plain": [
       "torch.Size([50, 1, 8, 8])"
      ]
     },
     "execution_count": 236,
     "metadata": {},
     "output_type": "execute_result"
    }
   ],
   "source": [
    "batch.size()"
   ]
  },
  {
   "cell_type": "code",
   "execution_count": 237,
   "metadata": {},
   "outputs": [
    {
     "data": {
      "text/plain": [
       "Variable containing:\n",
       " 1.0000e+00  8.1250e-13\n",
       " 1.0000e+00  1.6372e-10\n",
       " 1.0000e+00  1.2922e-06\n",
       " 1.0000e+00  8.2848e-12\n",
       " 1.0000e+00  4.9995e-11\n",
       " 1.0000e+00  1.1527e-13\n",
       " 1.0000e+00  6.0619e-08\n",
       " 9.9998e-01  2.1351e-05\n",
       " 1.0000e+00  1.5221e-06\n",
       " 1.0000e+00  3.2569e-07\n",
       " 1.0000e+00  2.6773e-08\n",
       " 1.0000e+00  1.4610e-11\n",
       " 1.0000e+00  1.3165e-15\n",
       " 1.0000e+00  1.0850e-08\n",
       " 1.0000e+00  2.3006e-09\n",
       " 1.0000e+00  4.8273e-06\n",
       " 1.0000e+00  1.6907e-15\n",
       " 1.0000e+00  1.8743e-08\n",
       " 1.0000e+00  2.4161e-11\n",
       " 1.0000e+00  1.9429e-07\n",
       " 1.0000e+00  3.4197e-06\n",
       " 9.9995e-01  5.0964e-05\n",
       " 1.0000e+00  1.1106e-07\n",
       " 9.9997e-01  2.7274e-05\n",
       " 1.0000e+00  8.3024e-10\n",
       " 1.0000e+00  5.5720e-07\n",
       " 1.0000e+00  4.3055e-09\n",
       " 1.0000e+00  5.8191e-11\n",
       " 1.0000e+00  3.7285e-11\n",
       " 9.9979e-01  2.0645e-04\n",
       " 1.0000e+00  1.0106e-11\n",
       " 1.0000e+00  1.6989e-07\n",
       " 1.0000e+00  6.6276e-09\n",
       " 1.0000e+00  2.5986e-09\n",
       " 1.0000e+00  2.3446e-10\n",
       " 1.0000e+00  1.8856e-11\n",
       " 1.0000e+00  6.8658e-11\n",
       " 1.0000e+00  5.5742e-07\n",
       " 9.9499e-01  5.0117e-03\n",
       " 1.0000e+00  1.8915e-08\n",
       " 1.0000e+00  1.5050e-09\n",
       " 1.0000e+00  2.2433e-07\n",
       " 1.0000e+00  1.9853e-14\n",
       " 1.0000e+00  2.1248e-07\n",
       " 1.0000e+00  9.4232e-10\n",
       " 9.9931e-01  6.8883e-04\n",
       " 1.0000e+00  1.4593e-07\n",
       " 1.0000e+00  5.4451e-07\n",
       " 1.0000e+00  1.5230e-08\n",
       " 1.0000e+00  3.2009e-08\n",
       "[torch.FloatTensor of size 50x2]"
      ]
     },
     "execution_count": 237,
     "metadata": {},
     "output_type": "execute_result"
    }
   ],
   "source": [
    "disc(Variable(batch))"
   ]
  },
  {
   "cell_type": "code",
   "execution_count": null,
   "metadata": {
    "collapsed": true
   },
   "outputs": [],
   "source": []
  }
 ],
 "metadata": {
  "kernelspec": {
   "display_name": "Python 3",
   "language": "python",
   "name": "python3"
  },
  "language_info": {
   "codemirror_mode": {
    "name": "ipython",
    "version": 3
   },
   "file_extension": ".py",
   "mimetype": "text/x-python",
   "name": "python",
   "nbconvert_exporter": "python",
   "pygments_lexer": "ipython3",
   "version": "3.6.2"
  }
 },
 "nbformat": 4,
 "nbformat_minor": 1
}
