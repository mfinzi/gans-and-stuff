{
 "cells": [
  {
   "cell_type": "code",
   "execution_count": 74,
   "metadata": {},
   "outputs": [
    {
     "name": "stdout",
     "output_type": "stream",
     "text": [
      "The autoreload extension is already loaded. To reload it, use:\n",
      "  %reload_ext autoreload\n"
     ]
    }
   ],
   "source": [
    "import numpy as np\n",
    "import torch\n",
    "import torchvision\n",
    "\n",
    "import torchvision.transforms as transforms\n",
    "from datasets import SynthDataset\n",
    "from synth_utils import js_div, kl_div, pca\n",
    "from priors import FactorizedNormalPrior\n",
    "import torch.nn.functional as F\n",
    "\n",
    "from bgan_nogen import BGANNG, FixedSizeDataset\n",
    "from datasets import DigitsDataset\n",
    "\n",
    "from matplotlib import pyplot as plt\n",
    "%matplotlib inline\n",
    "%load_ext autoreload\n",
    "%autoreload 2"
   ]
  },
  {
   "cell_type": "markdown",
   "metadata": {},
   "source": [
    "## Dataset"
   ]
  },
  {
   "cell_type": "code",
   "execution_count": 86,
   "metadata": {},
   "outputs": [],
   "source": [
    "data = DigitsDataset()\n",
    "trainloader = torch.utils.data.DataLoader(data, batch_size=50, shuffle=True)"
   ]
  },
  {
   "cell_type": "code",
   "execution_count": 89,
   "metadata": {},
   "outputs": [
    {
     "data": {
      "image/png": "[encoded data removed]",
      "text/plain": [
       "<matplotlib.figure.Figure at 0x10debc668>"
      ]
     },
     "metadata": {},
     "output_type": "display_data"
    }
   ],
   "source": [
    "def imshow(img):\n",
    "#     img = img / 2 + 0.5     # unnormalize\n",
    "    npimg = img.numpy()\n",
    "    plt.imshow(np.transpose(npimg, (1, 2, 0)))\n",
    "\n",
    "\n",
    "# get some random training images\n",
    "dataiter = iter(trainloader)\n",
    "images = data.inverse_transform(dataiter.next())\n",
    "images = torch.from_numpy(images)\n",
    "# images = images.view(-1, 1, 8, 8)\n",
    "\n",
    "# show images\n",
    "imshow(torchvision.utils.make_grid(images))"
   ]
  },
  {
   "cell_type": "markdown",
   "metadata": {},
   "source": [
    "## BGAN-NG"
   ]
  },
  {
   "cell_type": "code",
   "execution_count": 90,
   "metadata": {
    "collapsed": true
   },
   "outputs": [],
   "source": [
    "import torch.nn as nn\n",
    "import torch.optim as optim\n",
    "from torch.autograd import Variable"
   ]
  },
  {
   "cell_type": "code",
   "execution_count": 102,
   "metadata": {
    "collapsed": true
   },
   "outputs": [],
   "source": [
    "def weights_init(m):\n",
    "    classname = m.__class__.__name__\n",
    "    if classname.find('Linear') != -1:\n",
    "        m.weight.data.normal_(0.0, 0.02)\n",
    "\n",
    "class GeneratorNetwork(nn.Module):\n",
    "    \n",
    "    def __init__(self, shape, num_samples):\n",
    "        super(GeneratorNetwork, self).__init__()\n",
    "        self.build_net(shape, num_samples)\n",
    "        self.output_dim = shape\n",
    "    \n",
    "    def build_net(self, shape, num_samples):\n",
    "        z = torch.from_numpy(np.random.normal(size=[num_samples] + shape)).float()\n",
    "        self.z_v = Variable(z, requires_grad=True)\n",
    "    \n",
    "    \n",
    "    def forward(self):\n",
    "        output = self.z_v\n",
    "        return output\n",
    "    \n",
    "    def parameters(self):\n",
    "        return [self.z_v]\n",
    "\n",
    "class DiscriminatorNetwork(nn.Module):\n",
    "    \n",
    "    def __init__(self, x_dim, K, h_dim):\n",
    "        super(DiscriminatorNetwork, self).__init__()\n",
    "        self.build_net(x_dim, K, h_dim)\n",
    "        self.x_dim = x_dim\n",
    "        self.K = K\n",
    "    \n",
    "    def build_net(self, x_dim, K, h_dim):\n",
    "        self.network = nn.Sequential(\n",
    "            nn.Linear(x_dim, h_dim),\n",
    "            nn.ReLU(True),\n",
    "            nn.Linear(h_dim, K),\n",
    "            nn.Softmax()\n",
    "        )\n",
    "    \n",
    "    def forward(self, input):\n",
    "        # TODO: understand parallelism?\n",
    "        output = self.network(input.view(-1, 64))\n",
    "        return output\n",
    "    \n",
    "    \n",
    "#     def num_flat_features(self, x):\n",
    "#         size = x.size()[1:]  # all dimensions except the batch dimension\n",
    "#         num_features = 1\n",
    "#         for s in size:\n",
    "#             num_features *= s\n",
    "#         return num_features"
   ]
  },
  {
   "cell_type": "code",
   "execution_count": 103,
   "metadata": {
    "collapsed": true
   },
   "outputs": [],
   "source": [
    "batch_size = 50"
   ]
  },
  {
   "cell_type": "code",
   "execution_count": 176,
   "metadata": {},
   "outputs": [],
   "source": [
    "prior = FactorizedNormalPrior(std=5.)\n",
    "disc = DiscriminatorNetwork(x_dim=64, K=2, h_dim=100)\n",
    "gen = GeneratorNetwork([64], 1)\n",
    "gen.apply(weights_init)\n",
    "disc.apply(weights_init)\n",
    "bgan = BGANNG(gen, prior, disc, alpha=.01, eta=1e-6, num_data=len(data), disc_lr=1e-5)\n",
    "samples = []"
   ]
  },
  {
   "cell_type": "code",
   "execution_count": null,
   "metadata": {
    "scrolled": true
   },
   "outputs": [
    {
     "name": "stdout",
     "output_type": "stream",
     "text": [
      "0\n",
      "0.000401629\n",
      "-1.00009e-12\n",
      "100\n",
      "0.000199483\n",
      "2.38418e-07\n",
      "200\n",
      "0.00121547\n",
      "-1.00009e-12\n",
      "300\n",
      "0.000245281\n",
      "-1.00009e-12\n",
      "400\n",
      "0.000236365\n",
      "-1.00009e-12\n",
      "500\n",
      "0.000415865\n",
      "-1.00009e-12\n",
      "600\n",
      "0.000386752\n",
      "-1.00009e-12\n",
      "700\n",
      "0.00069156\n",
      "3.57627e-07\n",
      "800\n",
      "0.000305992\n",
      "-1.00009e-12\n",
      "900\n",
      "0.000165901\n",
      "0.000166192\n",
      "1000\n",
      "0.000163128\n",
      "1.32919e-05\n",
      "1100\n",
      "0.000289277\n",
      "-1.00009e-12\n",
      "1200\n",
      "0.000154147\n",
      "-1.00009e-12\n",
      "1300\n",
      "0.00854668\n",
      "4.76836e-07\n",
      "1400\n",
      "0.000114482\n",
      "2.33653e-05\n",
      "1500\n",
      "0.000407858\n",
      "-1.00009e-12\n",
      "1600\n",
      "0.000411322\n",
      "-1.00009e-12\n",
      "1700\n",
      "0.000291018\n",
      "7.45061e-06\n",
      "1800\n",
      "0.00572841\n",
      "-1.00009e-12\n",
      "1900\n",
      "0.00592744\n",
      "-1.00009e-12\n",
      "2000\n",
      "0.000158807\n",
      "1.85372e-05\n",
      "2100\n",
      "9.52318e-05\n",
      "-1.00009e-12\n",
      "2200\n",
      "0.000103579\n",
      "4.23194e-06\n",
      "2300\n",
      "9.30289e-05\n",
      "1.19208e-07\n",
      "2400\n",
      "8.22373e-05\n",
      "-1.00009e-12\n",
      "2500\n",
      "0.000151076\n",
      "-1.00009e-12\n",
      "2600\n",
      "0.000132115\n",
      "-1.00009e-12\n",
      "2700\n",
      "0.000270997\n",
      "-1.00009e-12\n",
      "2800\n",
      "0.00059879\n",
      "-1.00009e-12\n",
      "2900\n",
      "0.000402511\n",
      "1.78813e-07\n",
      "3000\n",
      "0.000489744\n",
      "0.00116494\n",
      "3100\n",
      "0.000161351\n",
      "1.78813e-07\n",
      "3200\n",
      "0.00531531\n",
      "0.00541799\n",
      "3300\n",
      "0.000356894\n",
      "-1.00009e-12\n",
      "3400\n",
      "6.31675e-05\n",
      "-1.00009e-12\n",
      "3500\n",
      "4.32745e-05\n",
      "-1.00009e-12\n",
      "3600\n",
      "0.000147901\n",
      "-1.00009e-12\n",
      "3700\n",
      "0.000286737\n",
      "4.58957e-06\n",
      "3800\n",
      "0.000102697\n",
      "3.03984e-06\n",
      "3900\n",
      "0.00274334\n",
      "-1.00009e-12\n",
      "4000\n",
      "0.00252603\n",
      "1.13846e-05\n",
      "4100\n",
      "0.000181908\n",
      "-1.00009e-12\n",
      "4200\n",
      "0.000440679\n",
      "-1.00009e-12\n",
      "4300\n",
      "0.000166862\n",
      "-1.00009e-12\n",
      "4400\n",
      "0.000193971\n",
      "-1.00009e-12\n",
      "4500\n",
      "0.000310133\n",
      "5.96046e-07\n",
      "4600\n",
      "0.00031249\n",
      "-1.00009e-12\n",
      "4700\n",
      "0.000258455\n",
      "0.000111288\n",
      "4800\n",
      "0.0144737\n",
      "-1.00009e-12\n",
      "4900\n",
      "0.00744708\n",
      "4.76836e-07\n",
      "5000\n",
      "0.000237495\n",
      "1.78814e-06\n",
      "5100\n",
      "0.000243607\n",
      "2.26498e-06\n",
      "5200\n",
      "0.000195292\n",
      "0.000350239\n",
      "5300\n",
      "0.00013433\n",
      "-1.00009e-12\n",
      "5400\n",
      "0.000153457\n",
      "-1.00009e-12\n",
      "5500\n",
      "0.0179633\n",
      "1.45436e-05\n",
      "5600\n",
      "0.000690084\n",
      "1.78813e-07\n",
      "5700\n",
      "0.000427194\n",
      "-1.00009e-12\n",
      "5800\n",
      "0.000902697\n",
      "-1.00009e-12\n",
      "5900\n",
      "0.014365\n",
      "-1.00009e-12\n",
      "6000\n",
      "0.000379036\n",
      "-1.00009e-12\n",
      "6100\n",
      "0.000855388\n",
      "-1.00009e-12\n",
      "6200\n",
      "0.00159533\n",
      "-1.00009e-12\n",
      "6300\n",
      "0.0291793\n",
      "-1.00009e-12\n",
      "6400\n",
      "0.000929425\n",
      "0.0188773\n",
      "6500\n",
      "0.00132608\n",
      "-1.00009e-12\n",
      "6600\n",
      "0.00118595\n",
      "2.98022e-07\n",
      "6700\n",
      "0.00103853\n",
      "1.4484e-05\n",
      "6800\n",
      "0.00190073\n",
      "1.19208e-07\n",
      "6900\n",
      "0.021669\n",
      "-1.00009e-12\n",
      "7000\n",
      "0.00139979\n",
      "3.8147e-06\n",
      "7100\n",
      "0.000499927\n",
      "-1.00009e-12\n",
      "7200\n",
      "0.00138537\n",
      "-1.00009e-12\n"
     ]
    }
   ],
   "source": [
    "old_samples = None\n",
    "if isinstance(samples, np.ndarray):\n",
    "    old_samples = np.copy(samples)\n",
    "    samples = []\n",
    "for epoch in range(10000):\n",
    "    for i, data_ in enumerate(trainloader, 0):\n",
    "        batch = data_[0].float()\n",
    "        bgan.step(batch)\n",
    "        \n",
    "        if not i%100:\n",
    "            bgan.fake_dataset.append(np.copy(gen.z_v.data.numpy()[0, :]))\n",
    "    if not epoch%1:\n",
    "        samples.append(np.copy(gen.z_v.data.numpy()))\n",
    "    if not epoch%100:\n",
    "        print(epoch)\n",
    "        print(bgan.d_loss_fake)\n",
    "        print(bgan.d_loss_real)\n",
    "if old_samples is not None:\n",
    "    samples = np.vstack([old_samples, np.vstack(samples)])\n",
    "else:\n",
    "    samples = np.array(samples)"
   ]
  },
  {
   "cell_type": "code",
   "execution_count": 216,
   "metadata": {
    "scrolled": false
   },
   "outputs": [
    {
     "data": {
      "image/png": "[encoded data removed]",
      "text/plain": [
       "<matplotlib.figure.Figure at 0x10df96978>"
      ]
     },
     "metadata": {},
     "output_type": "display_data"
    }
   ],
   "source": [
    "batch_samples_ = batch[:10]\n",
    "batch_np = data.inverse_transform(batch_samples_)\n",
    "imshow(torchvision.utils.make_grid(torch.from_numpy(batch_np)))"
   ]
  },
  {
   "cell_type": "code",
   "execution_count": 217,
   "metadata": {
    "collapsed": true
   },
   "outputs": [],
   "source": [
    "fake_samples = []\n",
    "for sample in bgan.fake_dataset:\n",
    "    fake_samples.append(sample)\n",
    "fake_samples = np.array(fake_samples)"
   ]
  },
  {
   "cell_type": "code",
   "execution_count": 218,
   "metadata": {},
   "outputs": [],
   "source": [
    "indices = (np.linspace(0, 1, 20) * (len(fake_samples)-1)).astype(int)"
   ]
  },
  {
   "cell_type": "code",
   "execution_count": 219,
   "metadata": {},
   "outputs": [],
   "source": [
    "# fake_samples_ = torch.from_numpy(fake_samples[indices]).view(-1, 1, 8, 8)\n",
    "fake_samples_ = torch.from_numpy(fake_samples[-20:]).view(-1, 1, 8, 8)\n",
    "fake_np = data.inverse_transform(fake_samples_)"
   ]
  },
  {
   "cell_type": "code",
   "execution_count": 220,
   "metadata": {},
   "outputs": [
    {
     "data": {
      "image/png": "[encoded data removed]",
      "text/plain": [
       "<matplotlib.figure.Figure at 0x10f520978>"
      ]
     },
     "metadata": {},
     "output_type": "display_data"
    }
   ],
   "source": [
    "imshow(torchvision.utils.make_grid(torch.from_numpy(fake_np)))"
   ]
  },
  {
   "cell_type": "code",
   "execution_count": 221,
   "metadata": {},
   "outputs": [],
   "source": [
    "sample_probs = disc(Variable(torch.from_numpy(fake_np)))[:, 0].data.numpy()"
   ]
  },
  {
   "cell_type": "code",
   "execution_count": 222,
   "metadata": {},
   "outputs": [
    {
     "data": {
      "text/plain": [
       "array([ 1.,  1.,  1.,  1.,  1.,  1.,  1.,  1.,  1.,  1.,  1.,  1.,  1.,\n",
       "        1.,  1.,  1.,  1.,  1.,  1.,  1.], dtype=float32)"
      ]
     },
     "execution_count": 222,
     "metadata": {},
     "output_type": "execute_result"
    }
   ],
   "source": [
    "sample_probs"
   ]
  },
  {
   "cell_type": "code",
   "execution_count": 224,
   "metadata": {},
   "outputs": [
    {
     "data": {
      "text/plain": [
       "Variable containing:\n",
       " 0.9982\n",
       "[torch.FloatTensor of size 1]"
      ]
     },
     "execution_count": 224,
     "metadata": {},
     "output_type": "execute_result"
    }
   ],
   "source": [
    "disc(Variable(batch))[:, 0]"
   ]
  },
  {
   "cell_type": "code",
   "execution_count": null,
   "metadata": {
    "collapsed": true
   },
   "outputs": [],
   "source": []
  }
 ],
 "metadata": {
  "kernelspec": {
   "display_name": "Python 3",
   "language": "python",
   "name": "python3"
  },
  "language_info": {
   "codemirror_mode": {
    "name": "ipython",
    "version": 3
   },
   "file_extension": ".py",
   "mimetype": "text/x-python",
   "name": "python",
   "nbconvert_exporter": "python",
   "pygments_lexer": "ipython3",
   "version": "3.6.2"
  }
 },
 "nbformat": 4,
 "nbformat_minor": 1
}
