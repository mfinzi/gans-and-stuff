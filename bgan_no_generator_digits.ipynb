{
 "cells": [
  {
   "cell_type": "code",
   "execution_count": 1,
   "metadata": {},
   "outputs": [],
   "source": [
    "import numpy as np\n",
    "import torch\n",
    "import torchvision\n",
    "\n",
    "import torchvision.transforms as transforms\n",
    "from datasets import SynthDataset\n",
    "from synth_utils import js_div, kl_div, pca\n",
    "from priors import FactorizedNormalPrior\n",
    "import torch.nn.functional as F\n",
    "\n",
    "from bgan_nogen import BGANNG, FixedSizeDataset\n",
    "from datasets import DigitsDataset\n",
    "\n",
    "from matplotlib import pyplot as plt\n",
    "%matplotlib inline\n",
    "%load_ext autoreload\n",
    "%autoreload 2"
   ]
  },
  {
   "cell_type": "markdown",
   "metadata": {},
   "source": [
    "## Dataset"
   ]
  },
  {
   "cell_type": "code",
   "execution_count": 85,
   "metadata": {},
   "outputs": [],
   "source": [
    "data = DigitsDataset()\n",
    "trainloader = torch.utils.data.DataLoader(data, batch_size=50, shuffle=True)"
   ]
  },
  {
   "cell_type": "code",
   "execution_count": 86,
   "metadata": {},
   "outputs": [
    {
     "data": {
      "image/png": "[encoded data removed]",
      "text/plain": [
       "<matplotlib.figure.Figure at 0x10eccebe0>"
      ]
     },
     "metadata": {},
     "output_type": "display_data"
    }
   ],
   "source": [
    "def imshow(img):\n",
    "#     img = img / 2 + 0.5     # unnormalize\n",
    "    npimg = img.numpy()\n",
    "    plt.imshow(np.transpose(npimg, (1, 2, 0)))\n",
    "\n",
    "\n",
    "# get some random training images\n",
    "dataiter = iter(trainloader)\n",
    "images = data.inverse_transform(dataiter.next())\n",
    "images = torch.from_numpy(images)\n",
    "# images = images.view(-1, 1, 8, 8)\n",
    "\n",
    "# show images\n",
    "imshow(torchvision.utils.make_grid(images))"
   ]
  },
  {
   "cell_type": "markdown",
   "metadata": {},
   "source": [
    "## BGAN-NG"
   ]
  },
  {
   "cell_type": "code",
   "execution_count": 87,
   "metadata": {
    "collapsed": true
   },
   "outputs": [],
   "source": [
    "import torch.nn as nn\n",
    "import torch.optim as optim\n",
    "from torch.autograd import Variable"
   ]
  },
  {
   "cell_type": "code",
   "execution_count": 88,
   "metadata": {
    "collapsed": true
   },
   "outputs": [],
   "source": [
    "def weights_init(m):\n",
    "    classname = m.__class__.__name__\n",
    "    if classname.find('Linear') != -1:\n",
    "        m.weight.data.normal_(0.0, 0.02)\n",
    "\n",
    "class GeneratorNetwork(nn.Module):\n",
    "    \n",
    "    def __init__(self, num_samples, shape=None, init=None):\n",
    "        super(GeneratorNetwork, self).__init__()\n",
    "        self.build_net(shape, num_samples, init)\n",
    "        self.output_dim = shape\n",
    "    \n",
    "    def build_net(self, shape, num_samples, init):\n",
    "        if init is None:\n",
    "            z = torch.from_numpy(np.random.normal(size=[num_samples] + shape)).float()\n",
    "        else:\n",
    "            z = torch.from_numpy(init).float()\n",
    "        self.z_v = Variable(z, requires_grad=True)\n",
    "    \n",
    "    \n",
    "    def forward(self):\n",
    "        output = self.z_v\n",
    "        return output\n",
    "    \n",
    "    def parameters(self):\n",
    "        return [self.z_v]\n",
    "\n",
    "\n",
    "class DiscriminatorNetwork(nn.Module):\n",
    "    \n",
    "    def __init__(self, x_dim, K, h_dim):\n",
    "        super(DiscriminatorNetwork, self).__init__()\n",
    "        self.build_net(x_dim, K, h_dim)\n",
    "        self.x_dim = x_dim\n",
    "        self.K = K\n",
    "    \n",
    "    def build_net(self, x_dim, K, h_dim):\n",
    "        self.network = nn.Sequential(\n",
    "            nn.Linear(x_dim, h_dim),\n",
    "            nn.ReLU(True),\n",
    "            nn.Linear(h_dim, K),\n",
    "            nn.Softmax()\n",
    "        )\n",
    "    \n",
    "    def forward(self, input):\n",
    "        output = self.network(input.view(-1, 64))\n",
    "        return output"
   ]
  },
  {
   "cell_type": "code",
   "execution_count": 89,
   "metadata": {
    "collapsed": true
   },
   "outputs": [],
   "source": [
    "batch_size = 50"
   ]
  },
  {
   "cell_type": "code",
   "execution_count": 90,
   "metadata": {
    "collapsed": true
   },
   "outputs": [],
   "source": [
    "# prior = FactorizedNormalPrior(std=5.)\n",
    "# init = data[0].numpy().reshape([1, -1])\n",
    "# gen = GeneratorNetwork(1, init=init)\n",
    "# disc = DiscriminatorNetwork(2, 2, 100)\n",
    "# gen.apply(weights_init)\n",
    "# disc.apply(weights_init)\n",
    "# bgan = BGANNG(gen, prior, disc, alpha=.01, eta=1e-4, num_data=len(data), disc_lr=1e-3, observed_gen=100)\n",
    "# samples = []"
   ]
  },
  {
   "cell_type": "code",
   "execution_count": 91,
   "metadata": {},
   "outputs": [],
   "source": [
    "prior = FactorizedNormalPrior(std=5.)\n",
    "disc = DiscriminatorNetwork(x_dim=64, K=2, h_dim=200)\n",
    "init = data[0].numpy()[:, None]\n",
    "gen = GeneratorNetwork(1, init=init)\n",
    "gen.apply(weights_init)\n",
    "disc.apply(weights_init)\n",
    "bgan = BGANNG(gen, prior, disc, alpha=.01, eta=1e-5, num_data=len(data), disc_lr=1e-4, observed_gen=100)\n",
    "samples = []"
   ]
  },
  {
   "cell_type": "code",
   "execution_count": 92,
   "metadata": {},
   "outputs": [
    {
     "data": {
      "text/plain": [
       "torch.Size([1, 1, 8, 8])"
      ]
     },
     "execution_count": 92,
     "metadata": {},
     "output_type": "execute_result"
    }
   ],
   "source": [
    "gen.forward().size()"
   ]
  },
  {
   "cell_type": "code",
   "execution_count": 93,
   "metadata": {},
   "outputs": [
    {
     "data": {
      "text/plain": [
       "torch.Size([50, 1, 8, 8])"
      ]
     },
     "execution_count": 93,
     "metadata": {},
     "output_type": "execute_result"
    }
   ],
   "source": [
    "batch.size()"
   ]
  },
  {
   "cell_type": "code",
   "execution_count": 94,
   "metadata": {
    "scrolled": true
   },
   "outputs": [
    {
     "name": "stdout",
     "output_type": "stream",
     "text": [
      "0\n",
      "0.635024\n",
      "0.67288\n",
      "100\n",
      "0.0801004\n",
      "0.149948\n",
      "200\n",
      "0.0357942\n",
      "0.0415319\n",
      "300\n",
      "0.0250085\n",
      "0.0253181\n",
      "400\n",
      "0.00685376\n",
      "0.00844729\n",
      "500\n",
      "0.00830156\n",
      "0.0056314\n",
      "600\n",
      "0.00579444\n",
      "0.00577921\n",
      "700\n",
      "0.00622473\n",
      "0.0118318\n",
      "800\n",
      "0.00588614\n",
      "0.0196171\n",
      "900\n",
      "0.00649\n",
      "0.000409546\n"
     ]
    }
   ],
   "source": [
    "old_samples = None\n",
    "if isinstance(samples, np.ndarray):\n",
    "    old_samples = np.copy(samples)\n",
    "    samples = []\n",
    "for epoch in range(1000):\n",
    "    for i, data_ in enumerate(trainloader, 0):\n",
    "        batch = data_.float()\n",
    "        bgan.step(batch)\n",
    "        \n",
    "        if not i%100:\n",
    "            bgan.fake_dataset.append(np.copy(gen.z_v.data.numpy()[0, :]))\n",
    "    if not epoch%1:\n",
    "        samples.append(np.copy(gen.z_v.data.numpy()))\n",
    "    if not epoch%100:\n",
    "        print(epoch)\n",
    "        print(bgan.d_loss_fake)\n",
    "        print(bgan.d_loss_real)\n",
    "if old_samples is not None:\n",
    "    samples = np.vstack([old_samples, np.vstack(samples)])\n",
    "else:\n",
    "    samples = np.array(samples)"
   ]
  },
  {
   "cell_type": "code",
   "execution_count": 96,
   "metadata": {
    "scrolled": false
   },
   "outputs": [
    {
     "data": {
      "image/png": "[encoded data removed]",
      "text/plain": [
       "<matplotlib.figure.Figure at 0x10ec45518>"
      ]
     },
     "metadata": {},
     "output_type": "display_data"
    }
   ],
   "source": [
    "batch_samples_ = batch[:10]\n",
    "batch_np = data.inverse_transform(batch_samples_)\n",
    "imshow(torchvision.utils.make_grid(torch.from_numpy(batch_np)))"
   ]
  },
  {
   "cell_type": "code",
   "execution_count": 97,
   "metadata": {
    "collapsed": true
   },
   "outputs": [],
   "source": [
    "fake_samples = []\n",
    "for sample in bgan.fake_dataset:\n",
    "    fake_samples.append(sample)\n",
    "fake_samples = np.array(fake_samples)"
   ]
  },
  {
   "cell_type": "code",
   "execution_count": 98,
   "metadata": {},
   "outputs": [],
   "source": [
    "indices = (np.linspace(0, 1, 20) * (len(fake_samples)-1)).astype(int)"
   ]
  },
  {
   "cell_type": "code",
   "execution_count": 109,
   "metadata": {},
   "outputs": [],
   "source": [
    "# fake_samples_ = torch.from_numpy(fake_samples[indices]).view(-1, 1, 8, 8)\n",
    "fake_samples_ = torch.from_numpy(fake_samples[-100:]).view(-1, 1, 8, 8)\n",
    "fake_np = data.inverse_transform(fake_samples_)\\"
   ]
  },
  {
   "cell_type": "code",
   "execution_count": 110,
   "metadata": {},
   "outputs": [
    {
     "data": {
      "image/png": "[encoded data removed]",
      "text/plain": [
       "<matplotlib.figure.Figure at 0x10f23e400>"
      ]
     },
     "metadata": {},
     "output_type": "display_data"
    }
   ],
   "source": [
    "imshow(torchvision.utils.make_grid(torch.from_numpy(fake_np)))"
   ]
  },
  {
   "cell_type": "code",
   "execution_count": 106,
   "metadata": {},
   "outputs": [],
   "source": [
    "sample_probs = disc(Variable(torch.from_numpy(fake_np)))[:, 0].data.numpy()"
   ]
  },
  {
   "cell_type": "code",
   "execution_count": 107,
   "metadata": {},
   "outputs": [
    {
     "data": {
      "text/plain": [
       "array([ 1.,  1.,  1.,  1.,  1.,  1.,  1.,  1.,  1.,  1.,  1.,  1.,  1.,\n",
       "        1.,  1.,  1.,  1.,  1.,  1.,  1.,  1.,  1.,  1.,  1.,  1.,  1.,\n",
       "        1.,  1.,  1.], dtype=float32)"
      ]
     },
     "execution_count": 107,
     "metadata": {},
     "output_type": "execute_result"
    }
   ],
   "source": [
    "sample_probs"
   ]
  },
  {
   "cell_type": "code",
   "execution_count": null,
   "metadata": {
    "collapsed": true
   },
   "outputs": [],
   "source": []
  },
  {
   "cell_type": "code",
   "execution_count": 108,
   "metadata": {},
   "outputs": [
    {
     "data": {
      "text/plain": [
       "Variable containing:\n",
       " 1.0000\n",
       " 0.9677\n",
       " 1.0000\n",
       " 0.9986\n",
       " 1.0000\n",
       " 0.9115\n",
       " 0.9987\n",
       " 0.9997\n",
       " 0.9990\n",
       " 1.0000\n",
       " 1.0000\n",
       " 1.0000\n",
       " 1.0000\n",
       " 0.9897\n",
       " 1.0000\n",
       " 0.9999\n",
       " 0.9999\n",
       " 1.0000\n",
       " 1.0000\n",
       " 1.0000\n",
       " 1.0000\n",
       " 1.0000\n",
       " 1.0000\n",
       " 1.0000\n",
       " 1.0000\n",
       " 0.9996\n",
       " 0.9990\n",
       " 1.0000\n",
       " 1.0000\n",
       " 1.0000\n",
       " 1.0000\n",
       " 0.9999\n",
       " 0.9999\n",
       " 0.9990\n",
       " 1.0000\n",
       " 1.0000\n",
       " 0.9992\n",
       " 1.0000\n",
       " 0.9963\n",
       " 1.0000\n",
       " 0.9995\n",
       " 0.9973\n",
       " 1.0000\n",
       " 1.0000\n",
       " 0.9993\n",
       " 0.9774\n",
       " 1.0000\n",
       "[torch.FloatTensor of size 47]"
      ]
     },
     "execution_count": 108,
     "metadata": {},
     "output_type": "execute_result"
    }
   ],
   "source": [
    "disc(Variable(batch))[:, 0]"
   ]
  },
  {
   "cell_type": "code",
   "execution_count": 255,
   "metadata": {},
   "outputs": [
    {
     "name": "stdout",
     "output_type": "stream",
     "text": [
      "torch.Size([50, 1, 8, 8])\n",
      "torch.Size([50, 1, 8, 8])\n",
      "torch.Size([50, 1, 8, 8])\n",
      "torch.Size([50, 1, 8, 8])\n"
     ]
    }
   ],
   "source": [
    "for i, data_ in enumerate(trainloader, 0):\n",
    "    batch = data_.float()\n",
    "    print(batch.size())\n",
    "    if i == 3:\n",
    "        break"
   ]
  },
  {
   "cell_type": "code",
   "execution_count": 250,
   "metadata": {},
   "outputs": [
    {
     "data": {
      "text/plain": [
       "torch.Size([1, 8, 8])"
      ]
     },
     "execution_count": 250,
     "metadata": {},
     "output_type": "execute_result"
    }
   ],
   "source": [
    "batch.size()"
   ]
  },
  {
   "cell_type": "code",
   "execution_count": 251,
   "metadata": {},
   "outputs": [
    {
     "data": {
      "text/plain": [
       "Variable containing:\n",
       " 1.0000e+00  6.3032e-11\n",
       "[torch.FloatTensor of size 1x2]"
      ]
     },
     "execution_count": 251,
     "metadata": {},
     "output_type": "execute_result"
    }
   ],
   "source": [
    "disc(Variable(batch))"
   ]
  },
  {
   "cell_type": "code",
   "execution_count": null,
   "metadata": {
    "collapsed": true
   },
   "outputs": [],
   "source": []
  }
 ],
 "metadata": {
  "kernelspec": {
   "display_name": "Python 3",
   "language": "python",
   "name": "python3"
  },
  "language_info": {
   "codemirror_mode": {
    "name": "ipython",
    "version": 3
   },
   "file_extension": ".py",
   "mimetype": "text/x-python",
   "name": "python",
   "nbconvert_exporter": "python",
   "pygments_lexer": "ipython3",
   "version": "3.6.2"
  }
 },
 "nbformat": 4,
 "nbformat_minor": 1
}
