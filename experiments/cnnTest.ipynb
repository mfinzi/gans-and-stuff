{
 "cells": [
  {
   "cell_type": "code",
   "execution_count": 8,
   "metadata": {},
   "outputs": [
    {
     "name": "stdout",
     "output_type": "stream",
     "text": [
      "The autoreload extension is already loaded. To reload it, use:\n",
      "  %reload_ext autoreload\n"
     ]
    }
   ],
   "source": [
    "import torch, torchvision\n",
    "import torchvision.transforms as transforms\n",
    "from torch.utils.data import DataLoader\n",
    "from torchvision.datasets import CIFAR10\n",
    "\n",
    "from bgan.cnnTrainer import CnnTrainer\n",
    "from bgan.wcnnTrainer import WcnnTrainer\n",
    "from bgan.vatCnnTrainer import VatCnnTrainer\n",
    "from bgan.networkparts import *\n",
    "\n",
    "%matplotlib inline\n",
    "%load_ext autoreload\n",
    "%autoreload 2"
   ]
  },
  {
   "cell_type": "markdown",
   "metadata": {},
   "source": [
    "## CNN Configuration"
   ]
  },
  {
   "cell_type": "code",
   "execution_count": 9,
   "metadata": {},
   "outputs": [],
   "source": [
    "savedir = '/scratch/maf388/experiments/layer13vat1/'\n",
    "config = {'lr':1e-4, 'amntLab':4000, \n",
    "          'lab_BS':32, 'ul_BS':64,\n",
    "          'entMin':False,'advEps':16, 'regScale':10}\n",
    "cnn = layer13(numClasses=10)"
   ]
  },
  {
   "cell_type": "markdown",
   "metadata": {},
   "source": [
    "## Dataset"
   ]
  },
  {
   "cell_type": "code",
   "execution_count": 10,
   "metadata": {},
   "outputs": [
    {
     "name": "stdout",
     "output_type": "stream",
     "text": [
      "Files already downloaded and verified\n",
      "Files already downloaded and verified\n"
     ]
    }
   ],
   "source": [
    "img_size = 32\n",
    "transform_dev = transforms.Compose(\n",
    "    [transforms.Resize(img_size),\n",
    "     transforms.ToTensor(),\n",
    "     transforms.Normalize((0.4914, 0.4822, 0.4465), (0.2023, 0.1994, 0.2010))])\n",
    "\n",
    "transform_train = transform_dev\n",
    "# transform_train = transforms.Compose(\n",
    "#     [transforms.RandomCrop(32, padding=4),\n",
    "#      transforms.RandomHorizontalFlip(),\n",
    "#      transform_dev])\n",
    "\n",
    "pathToDataset = '/scratch/maf388/datasets/cifar10/'\n",
    "trainset = CIFAR10(pathToDataset, download=True, transform=transform_train)\n",
    "devset = CIFAR10(pathToDataset, train=False, download=True, transform=transform_dev)\n",
    "testset = None\n",
    "\n",
    "datasets = (trainset, devset, testset)"
   ]
  },
  {
   "cell_type": "code",
   "execution_count": 11,
   "metadata": {},
   "outputs": [],
   "source": [
    "trainer = VatCnnTrainer(cnn,datasets,savedir,**config)"
   ]
  },
  {
   "cell_type": "code",
   "execution_count": null,
   "metadata": {
    "scrolled": true
   },
   "outputs": [
    {
     "name": "stdout",
     "output_type": "stream",
     "text": [
      "[  0/640][     0/80000] Train_loss: 2.284 Val_Acc: 0.094 Train_Acc: 0.094 Train_LDS: 0.000 \n",
      "[ 16/640][  2000/80000] Train_loss: 1.733 Val_Acc: 0.562 Train_Acc: 0.562 Train_LDS: 0.068 \n",
      "[ 32/640][  4000/80000] Train_loss: 1.456 Val_Acc: 0.562 Train_Acc: 0.875 Train_LDS: 0.116 \n",
      "[ 48/640][  6000/80000] Train_loss: 1.546 Val_Acc: 0.672 Train_Acc: 0.906 Train_LDS: 0.068 \n",
      "[ 64/640][  8000/80000] Train_loss: 1.118 Val_Acc: 0.609 Train_Acc: 1.000 Train_LDS: 0.078 \n",
      "[ 80/640][ 10000/80000] Train_loss: 1.043 Val_Acc: 0.625 Train_Acc: 0.969 Train_LDS: 0.118 \n",
      "[ 96/640][ 12000/80000] Train_loss: 1.171 Val_Acc: 0.750 Train_Acc: 1.000 Train_LDS: 0.102 \n",
      "[112/640][ 14000/80000] Train_loss: 0.963 Val_Acc: 0.750 Train_Acc: 1.000 Train_LDS: 0.101 \n",
      "[128/640][ 16000/80000] Train_loss: 1.040 Val_Acc: 0.766 Train_Acc: 1.000 Train_LDS: 0.098 \n",
      "[144/640][ 18000/80000] Train_loss: 1.030 Val_Acc: 0.781 Train_Acc: 1.000 Train_LDS: 0.110 \n",
      "[160/640][ 20000/80000] Train_loss: 0.948 Val_Acc: 0.609 Train_Acc: 0.969 Train_LDS: 0.097 \n",
      "[176/640][ 22000/80000] Train_loss: 0.849 Val_Acc: 0.750 Train_Acc: 1.000 Train_LDS: 0.074 \n",
      "[192/640][ 24000/80000] Train_loss: 0.823 Val_Acc: 0.766 Train_Acc: 1.000 Train_LDS: 0.094 \n",
      "[208/640][ 26000/80000] Train_loss: 0.906 Val_Acc: 0.688 Train_Acc: 1.000 Train_LDS: 0.110 \n",
      "[224/640][ 28000/80000] Train_loss: 0.715 Val_Acc: 0.812 Train_Acc: 1.000 Train_LDS: 0.088 \n",
      "[240/640][ 30000/80000] Train_loss: 0.763 Val_Acc: 0.656 Train_Acc: 1.000 Train_LDS: 0.100 \n",
      "[256/640][ 32000/80000] Train_loss: 0.676 Val_Acc: 0.688 Train_Acc: 1.000 Train_LDS: 0.077 \n",
      "[272/640][ 34000/80000] Train_loss: 0.816 Val_Acc: 0.828 Train_Acc: 1.000 Train_LDS: 0.071 \n",
      "[288/640][ 36000/80000] Train_loss: 0.669 Val_Acc: 0.734 Train_Acc: 1.000 Train_LDS: 0.101 \n",
      "[304/640][ 38000/80000] Train_loss: 0.732 Val_Acc: 0.734 Train_Acc: 1.000 Train_LDS: 0.071 \n",
      "[320/640][ 40000/80000] Train_loss: 0.796 Val_Acc: 0.750 Train_Acc: 1.000 Train_LDS: 0.074 \n",
      "[336/640][ 42000/80000] Train_loss: 0.963 Val_Acc: 0.688 Train_Acc: 1.000 Train_LDS: 0.108 \n",
      "[352/640][ 44000/80000] Train_loss: 0.918 Val_Acc: 0.766 Train_Acc: 1.000 Train_LDS: 0.104 \n",
      "[368/640][ 46000/80000] Train_loss: 0.788 Val_Acc: 0.812 Train_Acc: 1.000 Train_LDS: 0.103 \n",
      "[384/640][ 48000/80000] Train_loss: 0.612 Val_Acc: 0.734 Train_Acc: 1.000 Train_LDS: 0.090 \n",
      "[400/640][ 50000/80000] Train_loss: 0.686 Val_Acc: 0.625 Train_Acc: 1.000 Train_LDS: 0.073 \n",
      "[416/640][ 52000/80000] Train_loss: 0.847 Val_Acc: 0.812 Train_Acc: 1.000 Train_LDS: 0.057 \n",
      "[432/640][ 54000/80000] Train_loss: 0.697 Val_Acc: 0.812 Train_Acc: 1.000 Train_LDS: 0.072 \n",
      "[448/640][ 56000/80000] Train_loss: 0.499 Val_Acc: 0.750 Train_Acc: 1.000 Train_LDS: 0.075 \n",
      "[464/640][ 58000/80000] Train_loss: 0.516 Val_Acc: 0.734 Train_Acc: 1.000 Train_LDS: 0.060 \n",
      "[480/640][ 60000/80000] Train_loss: 0.634 Val_Acc: 0.828 Train_Acc: 1.000 Train_LDS: 0.072 \n",
      "[496/640][ 62000/80000] Train_loss: 0.822 Val_Acc: 0.688 Train_Acc: 1.000 Train_LDS: 0.082 \n",
      "[512/640][ 64000/80000] Train_loss: 0.813 Val_Acc: 0.781 Train_Acc: 1.000 Train_LDS: 0.075 \n",
      "[528/640][ 66000/80000] Train_loss: 0.587 Val_Acc: 0.734 Train_Acc: 1.000 Train_LDS: 0.107 \n",
      "[544/640][ 68000/80000] Train_loss: 0.615 Val_Acc: 0.797 Train_Acc: 1.000 Train_LDS: 0.075 \n",
      "[560/640][ 70000/80000] Train_loss: 0.634 Val_Acc: 0.734 Train_Acc: 1.000 Train_LDS: 0.108 \n"
     ]
    }
   ],
   "source": [
    "trainer.train(640)"
   ]
  },
  {
   "cell_type": "code",
   "execution_count": null,
   "metadata": {},
   "outputs": [],
   "source": [
    "trainer.CNN.training"
   ]
  },
  {
   "cell_type": "code",
   "execution_count": null,
   "metadata": {},
   "outputs": [],
   "source": []
  }
 ],
 "metadata": {
  "kernelspec": {
   "display_name": "Python 3",
   "language": "python",
   "name": "python3"
  },
  "language_info": {
   "codemirror_mode": {
    "name": "ipython",
    "version": 3
   },
   "file_extension": ".py",
   "mimetype": "text/x-python",
   "name": "python",
   "nbconvert_exporter": "python",
   "pygments_lexer": "ipython3",
   "version": "3.5.4"
  }
 },
 "nbformat": 4,
 "nbformat_minor": 2
}
