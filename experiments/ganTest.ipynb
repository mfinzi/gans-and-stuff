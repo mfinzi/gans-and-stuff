{
 "cells": [
  {
   "cell_type": "code",
   "execution_count": 1,
   "metadata": {},
   "outputs": [],
   "source": [
    "import numpy as np\n",
    "import torch, torchvision\n",
    "import torchvision.transforms as transforms\n",
    "from torch.autograd import Variable\n",
    "from matplotlib import pyplot as plt\n",
    "from torch.utils.data import DataLoader\n",
    "from torchvision.datasets import CIFAR10\n",
    "from bgan.ganTrainer import GanTrainer\n",
    "from bgan.networkparts import *\n",
    "%matplotlib inline\n",
    "%load_ext autoreload\n",
    "%autoreload 2"
   ]
  },
  {
   "cell_type": "markdown",
   "metadata": {},
   "source": [
    "## Gan Configuration"
   ]
  },
  {
   "cell_type": "code",
   "execution_count": 2,
   "metadata": {},
   "outputs": [],
   "source": [
    "amntLab = 4000\n",
    "savedir = '/scratch/maf388/experiments/semiBadBadins4000'\n",
    "config = {'lr':1e-4}\n",
    "gen = BadGanG()\n",
    "dis = BadGanDin(numClasses=11)#; dis.apply(weights_init_DC)"
   ]
  },
  {
   "cell_type": "markdown",
   "metadata": {},
   "source": [
    "## Dataset"
   ]
  },
  {
   "cell_type": "code",
   "execution_count": 3,
   "metadata": {},
   "outputs": [
    {
     "name": "stdout",
     "output_type": "stream",
     "text": [
      "Files already downloaded and verified\n",
      "Files already downloaded and verified\n"
     ]
    }
   ],
   "source": [
    "from bgan.datasets import getUandLloaders\n",
    "img_size = 32\n",
    "transform_dev = transforms.Compose(\n",
    "    [transforms.Resize(img_size),\n",
    "     transforms.ToTensor(),\n",
    "     transforms.Normalize((0.5, 0.5, 0.5), (0.5, 0.5, 0.5))])\n",
    "\n",
    "transform_train = transform_dev\n",
    "# transform_train = transforms.Compose(\n",
    "#     [transforms.RandomCrop(32, padding=4),\n",
    "#      transforms.RandomHorizontalFlip(),\n",
    "#      transform_dev])\n",
    "\n",
    "pathToDataset = '/scratch/maf388/datasets/cifar10/'\n",
    "trainset = CIFAR10(root=pathToDataset, download=True, transform=transform_train)\n",
    "\n",
    "dloaders = getUandLloaders(trainset, amntLab, batch_size=64, num_workers=0,\n",
    "                          drop_last=True)\n",
    "\n",
    "\n",
    "devset = CIFAR10(root=pathToDataset, train=False,\n",
    "                            download=True, transform=transform_dev)\n",
    "devloader = DataLoader(devset, batch_size=64, num_workers=0,drop_last=True)\n",
    "testloader = None\n",
    "\n",
    "dloaders += (devloader,testloader)"
   ]
  },
  {
   "cell_type": "code",
   "execution_count": null,
   "metadata": {},
   "outputs": [],
   "source": [
    "bgan = GanTrainer(gen, dis, dloaders, amntLab, savedir, **config)"
   ]
  },
  {
   "cell_type": "code",
   "execution_count": null,
   "metadata": {
    "scrolled": false
   },
   "outputs": [
    {
     "name": "stdout",
     "output_type": "stream",
     "text": [
      "Starting semiSupervised Training\n",
      "[  0/100][     0/71800] Val_Acc: 0.094 D_loss: 4.761 G_loss: 0.117 Train_Acc: 0.125 \n",
      "[  1/100][  1000/71800] Val_Acc: 0.078 D_loss: 2.721 G_loss: 1.612 Train_Acc: 0.125 \n",
      "[  2/100][  2000/71800] Val_Acc: 0.078 D_loss: 2.464 G_loss: 2.727 Train_Acc: 0.141 \n",
      "[  4/100][  3000/71800] Val_Acc: 0.109 D_loss: 2.382 G_loss: 3.259 Train_Acc: 0.125 \n",
      "[  5/100][  4000/71800] Val_Acc: 0.078 D_loss: 2.424 G_loss: 3.389 Train_Acc: 0.094 \n",
      "[  6/100][  5000/71800] Val_Acc: 0.141 D_loss: 2.360 G_loss: 4.097 Train_Acc: 0.031 \n",
      "[  8/100][  6000/71800] Val_Acc: 0.172 D_loss: 2.502 G_loss: 2.054 Train_Acc: 0.125 \n",
      "[  9/100][  7000/71800] Val_Acc: 0.078 D_loss: 2.495 G_loss: 2.557 Train_Acc: 0.109 \n",
      "[ 11/100][  8000/71800] Val_Acc: 0.062 D_loss: 2.621 G_loss: 2.107 Train_Acc: 0.109 \n",
      "[ 12/100][  9000/71800] Val_Acc: 0.188 D_loss: 2.614 G_loss: 2.800 Train_Acc: 0.141 \n",
      "[ 13/100][ 10000/71800] Val_Acc: 0.156 D_loss: 2.399 G_loss: 2.914 Train_Acc: 0.047 \n",
      "[ 15/100][ 11000/71800] Val_Acc: 0.156 D_loss: 2.610 G_loss: 2.984 Train_Acc: 0.219 \n",
      "[ 16/100][ 12000/71800] Val_Acc: 0.125 D_loss: 2.625 G_loss: 2.211 Train_Acc: 0.094 \n",
      "[ 18/100][ 13000/71800] Val_Acc: 0.188 D_loss: 2.629 G_loss: 2.783 Train_Acc: 0.109 \n",
      "[ 19/100][ 14000/71800] Val_Acc: 0.203 D_loss: 2.530 G_loss: 3.233 Train_Acc: 0.141 \n",
      "[ 20/100][ 15000/71800] Val_Acc: 0.109 D_loss: 2.539 G_loss: 2.419 Train_Acc: 0.156 \n",
      "[ 22/100][ 16000/71800] Val_Acc: 0.250 D_loss: 2.414 G_loss: 3.043 Train_Acc: 0.188 \n",
      "[ 23/100][ 17000/71800] Val_Acc: 0.203 D_loss: 2.529 G_loss: 2.192 Train_Acc: 0.203 \n",
      "[ 25/100][ 18000/71800] Val_Acc: 0.250 D_loss: 2.954 G_loss: 1.192 Train_Acc: 0.125 \n",
      "[ 26/100][ 19000/71800] Val_Acc: 0.141 D_loss: 2.133 G_loss: 3.567 Train_Acc: 0.203 \n",
      "[ 27/100][ 20000/71800] Val_Acc: 0.109 D_loss: 2.048 G_loss: 4.133 Train_Acc: 0.188 \n",
      "[ 29/100][ 21000/71800] Val_Acc: 0.078 D_loss: 2.045 G_loss: 3.663 Train_Acc: 0.219 \n",
      "[ 30/100][ 22000/71800] Val_Acc: 0.266 D_loss: 2.165 G_loss: 3.226 Train_Acc: 0.109 \n",
      "[ 32/100][ 23000/71800] Val_Acc: 0.109 D_loss: 2.061 G_loss: 3.565 Train_Acc: 0.203 \n",
      "[ 33/100][ 24000/71800] Val_Acc: 0.156 D_loss: 1.919 G_loss: 4.974 Train_Acc: 0.109 \n",
      "[ 34/100][ 25000/71800] Val_Acc: 0.234 D_loss: 1.709 G_loss: 3.519 Train_Acc: 0.375 \n",
      "[ 36/100][ 26000/71800] Val_Acc: 0.219 D_loss: 1.746 G_loss: 4.606 Train_Acc: 0.297 \n",
      "[ 37/100][ 27000/71800] Val_Acc: 0.234 D_loss: 1.587 G_loss: 5.139 Train_Acc: 0.406 \n",
      "[ 38/100][ 28000/71800] Val_Acc: 0.391 D_loss: 1.849 G_loss: 2.904 Train_Acc: 0.266 \n",
      "[ 40/100][ 29000/71800] Val_Acc: 0.359 D_loss: 1.747 G_loss: 3.130 Train_Acc: 0.328 \n",
      "[ 41/100][ 30000/71800] Val_Acc: 0.375 D_loss: 1.489 G_loss: 3.273 Train_Acc: 0.391 \n"
     ]
    }
   ],
   "source": [
    "bgan.train(100)"
   ]
  },
  {
   "cell_type": "code",
   "execution_count": null,
   "metadata": {},
   "outputs": [],
   "source": []
  },
  {
   "cell_type": "code",
   "execution_count": null,
   "metadata": {},
   "outputs": [],
   "source": []
  }
 ],
 "metadata": {
  "kernelspec": {
   "display_name": "Python 3",
   "language": "python",
   "name": "python3"
  },
  "language_info": {
   "codemirror_mode": {
    "name": "ipython",
    "version": 3
   },
   "file_extension": ".py",
   "mimetype": "text/x-python",
   "name": "python",
   "nbconvert_exporter": "python",
   "pygments_lexer": "ipython3",
   "version": "3.5.4"
  }
 },
 "nbformat": 4,
 "nbformat_minor": 2
}
