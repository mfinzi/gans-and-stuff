{
 "cells": [
  {
   "cell_type": "code",
   "execution_count": 1,
   "metadata": {},
   "outputs": [],
   "source": [
    "import torch, torchvision\n",
    "import numpy as np\n",
    "import torchvision.transforms as transforms\n",
    "from torch.utils.data import DataLoader, Dataset\n",
    "from torch.utils.data.sampler import Sampler\n",
    "import itertools\n",
    "\n",
    "\n",
    "%matplotlib inline\n",
    "%load_ext autoreload\n",
    "%autoreload 2"
   ]
  },
  {
   "cell_type": "markdown",
   "metadata": {},
   "source": [
    "## CNN Configuration"
   ]
  },
  {
   "cell_type": "code",
   "execution_count": 2,
   "metadata": {},
   "outputs": [],
   "source": [
    "class TestDataSet(Dataset):\n",
    "    def __init__(self):\n",
    "        super().__init__()\n",
    "        self.z = range(10)\n",
    "    def __getitem__(self, i):\n",
    "        return self.z[i]\n",
    "    def __len__(self):\n",
    "        return len(self.z)"
   ]
  },
  {
   "cell_type": "code",
   "execution_count": 3,
   "metadata": {},
   "outputs": [],
   "source": [
    "data = TestDataSet()"
   ]
  },
  {
   "cell_type": "markdown",
   "metadata": {},
   "source": [
    "## Dataset"
   ]
  },
  {
   "cell_type": "code",
   "execution_count": 4,
   "metadata": {},
   "outputs": [],
   "source": [
    "indices = range(10)"
   ]
  },
  {
   "cell_type": "code",
   "execution_count": 26,
   "metadata": {},
   "outputs": [],
   "source": [
    "class ShuffleCycleSubsetSampler(Sampler):\n",
    "    \"\"\"A cycle version of SubsetRandomSampler with\n",
    "        reordering on restart\"\"\"\n",
    "    def __init__(self, indices):\n",
    "        self.indices = indices\n",
    "\n",
    "    def __iter__(self):\n",
    "        return self._gen()\n",
    "\n",
    "    def _gen(self):\n",
    "        i = len(self.indices)\n",
    "        #perm = np.random.permutation(self.indices)\n",
    "        while True:\n",
    "            if i >= len(self.indices):\n",
    "                perm = np.random.permutation(self.indices)\n",
    "                i=0\n",
    "            yield perm[i]\n",
    "            i+=1\n",
    "    \n",
    "    def __len__(self):\n",
    "        return len(self.indices)"
   ]
  },
  {
   "cell_type": "code",
   "execution_count": 27,
   "metadata": {},
   "outputs": [],
   "source": [
    "sam2 = ShuffleCycleSubsetSampler(indices)"
   ]
  },
  {
   "cell_type": "code",
   "execution_count": 28,
   "metadata": {},
   "outputs": [],
   "source": [
    "dl = DataLoader(data, batch_size=5, sampler = sam2)"
   ]
  },
  {
   "cell_type": "code",
   "execution_count": 29,
   "metadata": {},
   "outputs": [],
   "source": [
    "it = iter(dl); it2 = iter(sam2)"
   ]
  },
  {
   "cell_type": "code",
   "execution_count": null,
   "metadata": {
    "scrolled": false
   },
   "outputs": [],
   "source": []
  },
  {
   "cell_type": "code",
   "execution_count": null,
   "metadata": {},
   "outputs": [],
   "source": []
  },
  {
   "cell_type": "code",
   "execution_count": 37,
   "metadata": {},
   "outputs": [
    {
     "name": "stdout",
     "output_type": "stream",
     "text": [
      "\n",
      " 1\n",
      " 4\n",
      " 3\n",
      " 9\n",
      " 7\n",
      "[torch.LongTensor of size 5]\n",
      "\n",
      "\n",
      " 8\n",
      " 6\n",
      " 5\n",
      " 0\n",
      " 2\n",
      "[torch.LongTensor of size 5]\n",
      "\n",
      "\n",
      " 8\n",
      " 4\n",
      " 1\n",
      " 9\n",
      " 7\n",
      "[torch.LongTensor of size 5]\n",
      "\n",
      "\n",
      " 3\n",
      " 0\n",
      " 5\n",
      " 6\n",
      " 2\n",
      "[torch.LongTensor of size 5]\n",
      "\n",
      "\n",
      " 0\n",
      " 2\n",
      " 1\n",
      " 5\n",
      " 4\n",
      "[torch.LongTensor of size 5]\n",
      "\n",
      "\n",
      " 3\n",
      " 8\n",
      " 7\n",
      " 6\n",
      " 9\n",
      "[torch.LongTensor of size 5]\n",
      "\n",
      "\n",
      " 1\n",
      " 9\n",
      " 3\n",
      " 5\n",
      " 2\n",
      "[torch.LongTensor of size 5]\n",
      "\n",
      "\n",
      " 8\n",
      " 6\n",
      " 4\n",
      " 0\n",
      " 7\n",
      "[torch.LongTensor of size 5]\n",
      "\n",
      "\n",
      " 0\n",
      " 3\n",
      " 6\n",
      " 7\n",
      " 9\n",
      "[torch.LongTensor of size 5]\n",
      "\n",
      "\n",
      " 1\n",
      " 4\n",
      " 8\n",
      " 5\n",
      " 2\n",
      "[torch.LongTensor of size 5]\n",
      "\n"
     ]
    }
   ],
   "source": [
    "for i in range(10):\n",
    "    print(next(it))"
   ]
  },
  {
   "cell_type": "code",
   "execution_count": 34,
   "metadata": {},
   "outputs": [
    {
     "name": "stdout",
     "output_type": "stream",
     "text": [
      "45\n",
      "45\n",
      "45\n",
      "45\n",
      "45\n",
      "45\n",
      "45\n",
      "45\n",
      "45\n",
      "45\n"
     ]
    }
   ],
   "source": [
    "for i in range(10):\n",
    "    s = 0\n",
    "    for j in range(10):\n",
    "        s+=next(it2)\n",
    "    print(s)"
   ]
  },
  {
   "cell_type": "code",
   "execution_count": null,
   "metadata": {},
   "outputs": [],
   "source": [
    "a = None"
   ]
  },
  {
   "cell_type": "code",
   "execution_count": null,
   "metadata": {},
   "outputs": [],
   "source": [
    "a.eval"
   ]
  },
  {
   "cell_type": "code",
   "execution_count": null,
   "metadata": {},
   "outputs": [],
   "source": []
  }
 ],
 "metadata": {
  "kernelspec": {
   "display_name": "Python 3",
   "language": "python",
   "name": "python3"
  },
  "language_info": {
   "codemirror_mode": {
    "name": "ipython",
    "version": 3
   },
   "file_extension": ".py",
   "mimetype": "text/x-python",
   "name": "python",
   "nbconvert_exporter": "python",
   "pygments_lexer": "ipython3",
   "version": "3.5.4"
  }
 },
 "nbformat": 4,
 "nbformat_minor": 2
}
