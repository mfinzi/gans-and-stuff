{
 "cells": [
  {
   "cell_type": "code",
   "execution_count": 257,
   "metadata": {
    "collapsed": true
   },
   "outputs": [],
   "source": [
    "import numpy as np\n",
    "import matplotlib.pyplot as plt\n",
    "from scipy.stats import multivariate_normal\n",
    "from mpl_toolkits.mplot3d import Axes3D\n",
    "\n",
    "import torch\n",
    "from torch.autograd import Variable\n",
    "import torch.optim as optim\n",
    "import torch.utils.data as data\n",
    "\n",
    "%matplotlib inline"
   ]
  },
  {
   "cell_type": "markdown",
   "metadata": {},
   "source": [
    "## Linear Regression"
   ]
  },
  {
   "cell_type": "code",
   "execution_count": 238,
   "metadata": {
    "collapsed": true
   },
   "outputs": [],
   "source": [
    "noise_var = 0.1\n",
    "num_data = 50\n",
    "num_features = 2\n",
    "prior_var = 1.\n",
    "\n",
    "X = np.random.randn(num_data, num_features)\n",
    "w_true = np.random.randn(num_features, 1) * np.sqrt(noise_var)\n",
    "noise = np.random.randn(num_data, 1) * np.sqrt(noise_var)\n",
    "y = X.dot(w_true) + noise"
   ]
  },
  {
   "cell_type": "code",
   "execution_count": 239,
   "metadata": {
    "collapsed": true
   },
   "outputs": [],
   "source": [
    "w_grid_x = np.linspace(-1, 1, num=100)\n",
    "w_grid_y = np.linspace(-1, 1, num=100)\n",
    "w_grid_x, w_grid_y = np.meshgrid(w_grid_x, w_grid_y)"
   ]
  },
  {
   "cell_type": "code",
   "execution_count": 240,
   "metadata": {
    "collapsed": true
   },
   "outputs": [],
   "source": [
    "w_grid_x = w_grid_x.reshape(-1)[:, None]\n",
    "w_grid_y = w_grid_y.reshape(-1)[:, None]\n",
    "w_grid = np.hstack([w_grid_x, w_grid_y])"
   ]
  },
  {
   "cell_type": "markdown",
   "metadata": {},
   "source": [
    "Prior: $p(w) = \\mathcal{N}(0, I)$. Likelihood: $p(y \\vert w) = \\mathcal{N}(0, 0.1 \\cdot I)$\n",
    "\n",
    "Posterior $p(w \\vert y) \\propto p(w) p(y \\vert w)$.\n",
    "\n",
    "### True posterior:"
   ]
  },
  {
   "cell_type": "code",
   "execution_count": 241,
   "metadata": {
    "collapsed": true
   },
   "outputs": [],
   "source": [
    "# prior parameters\n",
    "S0 = np.eye(num_features) * prior_var\n",
    "m0 = np.zeros([num_features, 1])\n",
    "\n",
    "beta = 1 / noise_var\n",
    "\n",
    "# posterior parameters\n",
    "S0_inv = np.linalg.inv(S0)\n",
    "Sn_inv = S0_inv + beta * X.T.dot(X)\n",
    "Sn = np.linalg.inv(Sn_inv)\n",
    "\n",
    "\n",
    "mn = Sn.dot(S0_inv.dot(m0) + beta * X.T.dot(y))"
   ]
  },
  {
   "cell_type": "code",
   "execution_count": 739,
   "metadata": {
    "collapsed": true
   },
   "outputs": [],
   "source": [
    "true_posterior = multivariate_normal(mean=mn[:, 0], cov=Sn)"
   ]
  },
  {
   "cell_type": "code",
   "execution_count": 1098,
   "metadata": {
    "collapsed": true
   },
   "outputs": [],
   "source": [
    "w_samples = np.random.multivariate_normal(mn[:, 0], Sn, size=5000)"
   ]
  },
  {
   "cell_type": "code",
   "execution_count": 1099,
   "metadata": {},
   "outputs": [
    {
     "data": {
      "text/plain": [
       "[<matplotlib.lines.Line2D at 0x127d30390>]"
      ]
     },
     "execution_count": 1099,
     "metadata": {},
     "output_type": "execute_result"
    },
    {
     "data": {
      "image/png": "[encoded data removed]",
      "text/plain": [
       "<matplotlib.figure.Figure at 0x1282aa160>"
      ]
     },
     "metadata": {},
     "output_type": "display_data"
    }
   ],
   "source": [
    "plt.plot(w_samples[:, 0], w_samples[:, 1], 'bo')"
   ]
  },
  {
   "cell_type": "markdown",
   "metadata": {},
   "source": [
    "### SGHMC"
   ]
  },
  {
   "cell_type": "code",
   "execution_count": 896,
   "metadata": {
    "collapsed": true
   },
   "outputs": [],
   "source": [
    "class RegDataset(data.Dataset):\n",
    "    \n",
    "    def __init__(self, X, y):\n",
    "        self.X = torch.from_numpy(X).float()\n",
    "        self.y = torch.from_numpy(y).float()\n",
    "        \n",
    "    def __len__(self):\n",
    "        return self.X.size()[0]\n",
    "    \n",
    "    def __getitem__(self, index):\n",
    "        return self.X[index], self.y[index]"
   ]
  },
  {
   "cell_type": "code",
   "execution_count": 1048,
   "metadata": {
    "collapsed": true
   },
   "outputs": [],
   "source": [
    "dataset = RegDataset(X, y)\n",
    "dataloader = data.DataLoader(dataset, batch_size=10, shuffle=True)"
   ]
  },
  {
   "cell_type": "code",
   "execution_count": 1049,
   "metadata": {
    "collapsed": true
   },
   "outputs": [],
   "source": [
    "class SGHMC:\n",
    "    \n",
    "    def __init__(self, var, alpha, eta, log_density, num_data):\n",
    "        \"\"\"\n",
    "        Stochastic Gradient Monte Carlo sampler.\n",
    "        \n",
    "        Args:\n",
    "            var: `Variable` corresponding to the variable that is sampled\n",
    "            alpha: momentum parameter\n",
    "            eta: learning rate parameter\n",
    "            log_density: function computing log_density for a given sample\n",
    "                and batch of data\n",
    "        \"\"\"\n",
    "        self.var = var\n",
    "        self.alpha = alpha\n",
    "        self.eta = eta\n",
    "        self.log_density = log_density\n",
    "        self.dataloader = dataloader\n",
    "        self.optimizer = optim.SGD([self.var], lr=1, momentum=(1 - self.alpha))\n",
    "        self.num_data = num_data\n",
    "    \n",
    "    def _noise(self):\n",
    "        std = np.sqrt(2 * self.alpha * self.eta)\n",
    "        n = Variable(torch.normal(0, std= std * torch.ones(self.var.size())))\n",
    "        return torch.sum(n * self.var)\n",
    "        \n",
    "    def sample(self, x_batch, y_batch):\n",
    "        loss = self.log_density(self.var, x_batch, y_batch) * self.eta\n",
    "        loss += self._noise() / self.num_data\n",
    "        loss.backward()\n",
    "        self.optimizer.step()\n",
    "        self.var.grad.data.zero_()\n",
    "#         print(self.var.grad)\n",
    "        return self.var"
   ]
  },
  {
   "cell_type": "code",
   "execution_count": 1050,
   "metadata": {
    "collapsed": true
   },
   "outputs": [],
   "source": [
    "class BayesianLinearRegression:\n",
    "\n",
    "    def __init__(self, prior_std, noise_std, num_data):\n",
    "        self.prior_std = prior_std\n",
    "        self.noise_std = noise_std\n",
    "        self.num_data = num_data\n",
    "    \n",
    "    def log_prior(self, w):\n",
    "        return - torch.sum(w**2 / (2 * self.prior_std**2))\n",
    "\n",
    "    def log_posterior_density(self, w, X_batch, y_batch):\n",
    "        Xv = Variable(X_batch)\n",
    "        yv = Variable(y_batch)[:, 0]\n",
    "        preds = torch.matmul(Xv, w)\n",
    "        loss = - torch.mean((preds - yv)**2 /(2 * self.noise_std**2))\n",
    "        loss += self.log_prior(w)/ self.num_data\n",
    "        return -loss"
   ]
  },
  {
   "cell_type": "markdown",
   "metadata": {},
   "source": [
    "### Sampling"
   ]
  },
  {
   "cell_type": "code",
   "execution_count": 1129,
   "metadata": {
    "collapsed": true
   },
   "outputs": [],
   "source": [
    "w = torch.from_numpy(np.random.multivariate_normal(m0[:, 0], S0)).float()\n",
    "w_v = Variable(w, requires_grad=True)\n",
    "bayes_reg = BayesianLinearRegression(np.sqrt(prior_var), np.sqrt(noise_var), X.shape[0])\n",
    "sghmc = SGHMC(w_v, .01, 5e-3, bayes_reg.log_posterior_density, X.shape[0])"
   ]
  },
  {
   "cell_type": "code",
   "execution_count": 1131,
   "metadata": {},
   "outputs": [
    {
     "name": "stdout",
     "output_type": "stream",
     "text": [
      "0\n",
      "100\n",
      "200\n",
      "300\n",
      "400\n",
      "500\n",
      "600\n",
      "700\n",
      "800\n",
      "900\n",
      "1000\n",
      "1100\n",
      "1200\n",
      "1300\n",
      "1400\n",
      "1500\n",
      "1600\n",
      "1700\n",
      "1800\n",
      "1900\n",
      "2000\n",
      "2100\n",
      "2200\n",
      "2300\n",
      "2400\n",
      "2500\n",
      "2600\n",
      "2700\n",
      "2800\n",
      "2900\n",
      "3000\n",
      "3100\n",
      "3200\n",
      "3300\n",
      "3400\n",
      "3500\n",
      "3600\n",
      "3700\n",
      "3800\n",
      "3900\n",
      "4000\n",
      "4100\n",
      "4200\n",
      "4300\n",
      "4400\n",
      "4500\n",
      "4600\n",
      "4700\n",
      "4800\n",
      "4900\n",
      "5000\n",
      "5100\n",
      "5200\n",
      "5300\n",
      "5400\n",
      "5500\n",
      "5600\n",
      "5700\n",
      "5800\n",
      "5900\n",
      "6000\n",
      "6100\n",
      "6200\n",
      "6300\n",
      "6400\n",
      "6500\n",
      "6600\n",
      "6700\n",
      "6800\n",
      "6900\n",
      "7000\n",
      "7100\n",
      "7200\n",
      "7300\n",
      "7400\n",
      "7500\n",
      "7600\n",
      "7700\n",
      "7800\n",
      "7900\n",
      "8000\n",
      "8100\n",
      "8200\n",
      "8300\n",
      "8400\n",
      "8500\n",
      "8600\n",
      "8700\n",
      "8800\n",
      "8900\n",
      "9000\n",
      "9100\n",
      "9200\n",
      "9300\n",
      "9400\n",
      "9500\n",
      "9600\n",
      "9700\n",
      "9800\n",
      "9900\n"
     ]
    }
   ],
   "source": [
    "samples = []\n",
    "for epoch in range(10000):\n",
    "    for i, data_ in enumerate(dataloader, 0):\n",
    "        x_batch, y_batch = data_\n",
    "        w_sample = sghmc.sample(x_batch, y_batch)\n",
    "        samples.append(np.copy(w_sample.data.numpy()))\n",
    "    if not(epoch % 100):\n",
    "        print(epoch)"
   ]
  },
  {
   "cell_type": "code",
   "execution_count": 1132,
   "metadata": {},
   "outputs": [
    {
     "data": {
      "text/plain": [
       "(50000, 2)"
      ]
     },
     "execution_count": 1132,
     "metadata": {},
     "output_type": "execute_result"
    }
   ],
   "source": [
    "samples = np.vstack(samples)\n",
    "samples.shape"
   ]
  },
  {
   "cell_type": "code",
   "execution_count": 1133,
   "metadata": {},
   "outputs": [
    {
     "data": {
      "text/plain": [
       "[<matplotlib.lines.Line2D at 0x1292edf98>]"
      ]
     },
     "execution_count": 1133,
     "metadata": {},
     "output_type": "execute_result"
    },
    {
     "data": {
      "image/png": "[encoded data removed]",
      "text/plain": [
       "<matplotlib.figure.Figure at 0x129314668>"
      ]
     },
     "metadata": {},
     "output_type": "display_data"
    }
   ],
   "source": [
    "start_from=45000\n",
    "plus = 5000\n",
    "plt.plot(samples[start_from:start_from+plus, 0], samples[start_from:start_from+plus, 1], 'bo')\n",
    "plt.plot(mn[0] ,mn[1], 'ro')"
   ]
  },
  {
   "cell_type": "code",
   "execution_count": 1134,
   "metadata": {},
   "outputs": [
    {
     "data": {
      "text/plain": [
       "[<matplotlib.lines.Line2D at 0x12941b518>]"
      ]
     },
     "execution_count": 1134,
     "metadata": {},
     "output_type": "execute_result"
    },
    {
     "data": {
      "image/png": "[encoded data removed]",
      "text/plain": [
       "<matplotlib.figure.Figure at 0x12941b588>"
      ]
     },
     "metadata": {},
     "output_type": "display_data"
    }
   ],
   "source": [
    "freq = 10\n",
    "new_samples = []\n",
    "for i in range(int(samples.shape[0] / freq))[100:]:#[400:]:\n",
    "    new_samples.append(samples[i * freq][None, :])\n",
    "new_samples = np.vstack(new_samples)\n",
    "plt.plot(new_samples[:, 0], new_samples[:, 1], 'bo')\n",
    "plt.plot(mn[0] ,mn[1], 'ro')"
   ]
  },
  {
   "cell_type": "code",
   "execution_count": 1147,
   "metadata": {},
   "outputs": [
    {
     "data": {
      "text/plain": [
       "[<matplotlib.lines.Line2D at 0x12b0b1cc0>]"
      ]
     },
     "execution_count": 1147,
     "metadata": {},
     "output_type": "execute_result"
    },
    {
     "data": {
      "image/png": "[encoded data removed]",
      "text/plain": [
       "<matplotlib.figure.Figure at 0x12b0b1da0>"
      ]
     },
     "metadata": {},
     "output_type": "display_data"
    }
   ],
   "source": [
    "start_from=10000\n",
    "plus = 20000\n",
    "plt.plot(samples[start_from:start_from+plus, 0], samples[start_from:start_from+plus, 1], 'bo')\n",
    "plt.plot(mn[0] ,mn[1], 'ro')"
   ]
  },
  {
   "cell_type": "code",
   "execution_count": null,
   "metadata": {
    "collapsed": true
   },
   "outputs": [],
   "source": []
  }
 ],
 "metadata": {
  "kernelspec": {
   "display_name": "Python 3",
   "language": "python",
   "name": "python3"
  },
  "language_info": {
   "codemirror_mode": {
    "name": "ipython",
    "version": 3
   },
   "file_extension": ".py",
   "mimetype": "text/x-python",
   "name": "python",
   "nbconvert_exporter": "python",
   "pygments_lexer": "ipython3",
   "version": "3.6.2"
  }
 },
 "nbformat": 4,
 "nbformat_minor": 2
}
