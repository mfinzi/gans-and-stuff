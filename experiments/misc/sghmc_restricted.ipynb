{
 "cells": [
  {
   "cell_type": "code",
   "execution_count": 5,
   "metadata": {
    "collapsed": true
   },
   "outputs": [],
   "source": [
    "import torch\n",
    "from torch.autograd import Variable\n",
    "import torch.optim as optim\n",
    "import numpy as np\n",
    "from matplotlib import pyplot as plt\n",
    "%matplotlib inline"
   ]
  },
  {
   "cell_type": "code",
   "execution_count": 13,
   "metadata": {
    "collapsed": true
   },
   "outputs": [],
   "source": [
    "class NomalDist:\n",
    "    def __init__(self, mu, sigma):\n",
    "        self.d = mu.size\n",
    "        sigma_cho = np.linalg.cholesky(sigma)\n",
    "        self.mu = Variable(torch.from_numpy(mu).float())\n",
    "        self.sigma = Variable(torch.from_numpy(sigma).float())\n",
    "        self.sigma_inv = torch.inverse(self.sigma)\n",
    "        self.sigma_cho = Variable(torch.from_numpy(sigma_cho).float())\n",
    "        \n",
    "    def loss(self, x):\n",
    "        y = x**2\n",
    "        xy = torch.cat([x, y])[:, None]  \n",
    "        return torch.matmul(torch.transpose(xy - self.mu[:, None], 0, 1), \n",
    "                            torch.matmul(self.sigma_inv, (xy - self.mu[:, None])))\n",
    "    \n",
    "    \n",
    "    def sample(self, n_samples):\n",
    "        z = Variable(torch.randn((n_samples, self.d)).float())\n",
    "        samples = torch.transpose(torch.matmul(self.sigma_cho, torch.transpose(z, 0, 1)), 0, 1)\n",
    "        samples += self.mu[None, :] \n",
    "        return samples.data.numpy()"
   ]
  },
  {
   "cell_type": "markdown",
   "metadata": {
    "scrolled": true
   },
   "source": [
    "Example samples"
   ]
  },
  {
   "cell_type": "code",
   "execution_count": 14,
   "metadata": {},
   "outputs": [
    {
     "data": {
      "text/plain": [
       "[<matplotlib.lines.Line2D at 0x10a488d30>]"
      ]
     },
     "execution_count": 14,
     "metadata": {},
     "output_type": "execute_result"
    },
    {
     "data": {
      "image/png": "[encoded data removed]",
      "text/plain": [
       "<matplotlib.figure.Figure at 0x10a42a278>"
      ]
     },
     "metadata": {},
     "output_type": "display_data"
    }
   ],
   "source": [
    "mu = np.zeros([2], dtype=float)\n",
    "sigma = np.array([[1, .5], [.5, 1]])\n",
    "dist = NomalDist(mu, sigma)\n",
    "samples = dist.sample(1000)\n",
    "plt.plot(samples[:, 0], samples[:, 1], 'ro')"
   ]
  },
  {
   "cell_type": "code",
   "execution_count": 15,
   "metadata": {
    "collapsed": true
   },
   "outputs": [],
   "source": [
    "class SGHMC:\n",
    "    \n",
    "    def __init__(self, var, alpha, eta, log_density):\n",
    "        \"\"\"\n",
    "        Stochastic Gradient Monte Carlo sampler.\n",
    "        \n",
    "        Args:\n",
    "            var: `Variable` corresponding to the variable that is sampled\n",
    "            alpha: momentum parameter\n",
    "            eta: learning rate parameter\n",
    "            log_density: function computing log_density for a given sample\n",
    "                and batch of data\n",
    "        \"\"\"\n",
    "        self.var = var\n",
    "        self.alpha = alpha\n",
    "        self.eta = eta\n",
    "        self.log_density = log_density\n",
    "        self.optimizer = optim.SGD([self.var], lr=1, momentum=(1 - self.alpha))\n",
    "    \n",
    "    def _noise(self):\n",
    "        std = np.sqrt(2 * self.alpha * self.eta)\n",
    "        n = Variable(torch.normal(0, std= std * torch.ones(self.var.size())))\n",
    "        return torch.sum(n * self.var)\n",
    "        \n",
    "    def sample(self):\n",
    "        loss = self.log_density(self.var) * self.eta\n",
    "        loss += self._noise()\n",
    "        loss.backward()\n",
    "        self.optimizer.step()\n",
    "        self.var.grad.data.zero_()\n",
    "        return self.var"
   ]
  },
  {
   "cell_type": "code",
   "execution_count": 16,
   "metadata": {
    "collapsed": true
   },
   "outputs": [],
   "source": [
    "x = torch.from_numpy(np.array([-3])).float()\n",
    "x_v = Variable(x, requires_grad=True)            \n",
    "mu = np.zeros([2], dtype=float)\n",
    "sigma = np.array([[1, .5], [.5, 1]])\n",
    "dist = NomalDist(mu, sigma)\n",
    "sghmc = SGHMC(x_v, .01, 5e-3, dist.loss)"
   ]
  },
  {
   "cell_type": "code",
   "execution_count": 31,
   "metadata": {},
   "outputs": [
    {
     "name": "stdout",
     "output_type": "stream",
     "text": [
      "0\n",
      "100\n",
      "200\n",
      "300\n",
      "400\n",
      "500\n",
      "600\n",
      "700\n",
      "800\n",
      "900\n",
      "1000\n",
      "1100\n",
      "1200\n",
      "1300\n",
      "1400\n",
      "1500\n",
      "1600\n",
      "1700\n",
      "1800\n",
      "1900\n",
      "2000\n",
      "2100\n",
      "2200\n",
      "2300\n",
      "2400\n",
      "2500\n",
      "2600\n",
      "2700\n",
      "2800\n",
      "2900\n",
      "3000\n",
      "3100\n",
      "3200\n",
      "3300\n",
      "3400\n",
      "3500\n",
      "3600\n",
      "3700\n",
      "3800\n",
      "3900\n",
      "4000\n",
      "4100\n",
      "4200\n",
      "4300\n",
      "4400\n",
      "4500\n",
      "4600\n",
      "4700\n",
      "4800\n",
      "4900\n",
      "5000\n",
      "5100\n",
      "5200\n",
      "5300\n",
      "5400\n",
      "5500\n",
      "5600\n",
      "5700\n",
      "5800\n",
      "5900\n",
      "6000\n",
      "6100\n",
      "6200\n",
      "6300\n",
      "6400\n",
      "6500\n",
      "6600\n",
      "6700\n",
      "6800\n",
      "6900\n",
      "7000\n",
      "7100\n",
      "7200\n",
      "7300\n",
      "7400\n",
      "7500\n",
      "7600\n",
      "7700\n",
      "7800\n",
      "7900\n",
      "8000\n",
      "8100\n",
      "8200\n",
      "8300\n",
      "8400\n",
      "8500\n",
      "8600\n",
      "8700\n",
      "8800\n",
      "8900\n",
      "9000\n",
      "9100\n",
      "9200\n",
      "9300\n",
      "9400\n",
      "9500\n",
      "9600\n",
      "9700\n",
      "9800\n",
      "9900\n"
     ]
    }
   ],
   "source": [
    "samples = []\n",
    "for epoch in range(10000):\n",
    "    w_sample = sghmc.sample()\n",
    "    samples.append(np.copy(w_sample.data.numpy()).T)\n",
    "    if not(epoch % 100):\n",
    "        print(epoch)"
   ]
  },
  {
   "cell_type": "code",
   "execution_count": 32,
   "metadata": {},
   "outputs": [
    {
     "data": {
      "text/plain": [
       "(10000, 1)"
      ]
     },
     "execution_count": 32,
     "metadata": {},
     "output_type": "execute_result"
    }
   ],
   "source": [
    "samples = np.vstack(samples)\n",
    "samples.shape"
   ]
  },
  {
   "cell_type": "code",
   "execution_count": 33,
   "metadata": {},
   "outputs": [
    {
     "data": {
      "text/plain": [
       "[<matplotlib.lines.Line2D at 0x10ac6f7f0>]"
      ]
     },
     "execution_count": 33,
     "metadata": {},
     "output_type": "execute_result"
    },
    {
     "data": {
      "image/png": "[encoded data removed]",
      "text/plain": [
       "<matplotlib.figure.Figure at 0x10a881a58>"
      ]
     },
     "metadata": {},
     "output_type": "display_data"
    }
   ],
   "source": [
    "start_from=0\n",
    "plus = 10000\n",
    "plt.plot(samples[start_from:start_from+plus, 0], samples[start_from:start_from+plus, 0]**2, 'bo')"
   ]
  },
  {
   "cell_type": "code",
   "execution_count": 39,
   "metadata": {},
   "outputs": [
    {
     "data": {
      "text/plain": [
       "[<matplotlib.lines.Line2D at 0x10af45518>]"
      ]
     },
     "execution_count": 39,
     "metadata": {},
     "output_type": "execute_result"
    },
    {
     "data": {
      "image/png": "[encoded data removed]",
      "text/plain": [
       "<matplotlib.figure.Figure at 0x10af25cc0>"
      ]
     },
     "metadata": {},
     "output_type": "display_data"
    }
   ],
   "source": [
    "freq = 60\n",
    "new_samples = []\n",
    "for i in range(int(samples.shape[0] / freq))[100:]:#[400:]:\n",
    "    new_samples.append(samples[i * freq][None, :])\n",
    "new_samples = np.vstack(new_samples)\n",
    "plt.plot(new_samples[:, 0], new_samples[:, 0]**2, 'bo')\n"
   ]
  },
  {
   "cell_type": "code",
   "execution_count": 40,
   "metadata": {},
   "outputs": [
    {
     "data": {
      "text/plain": [
       "[<matplotlib.lines.Line2D at 0x10ae865c0>]"
      ]
     },
     "execution_count": 40,
     "metadata": {},
     "output_type": "execute_result"
    },
    {
     "data": {
      "image/png": "[encoded data removed]",
      "text/plain": [
       "<matplotlib.figure.Figure at 0x10a95e438>"
      ]
     },
     "metadata": {},
     "output_type": "display_data"
    }
   ],
   "source": [
    "mu = np.zeros([2], dtype=float)\n",
    "sigma = np.array([[1, .5], [.5, 1]])\n",
    "dist = NomalDist(mu, sigma)\n",
    "samples = dist.sample(1000)\n",
    "plt.plot(samples[:, 0], samples[:, 1], 'ro')\n",
    "plt.plot(new_samples[:, 0], new_samples[:, 0]**2, 'bo')"
   ]
  },
  {
   "cell_type": "code",
   "execution_count": null,
   "metadata": {
    "collapsed": true
   },
   "outputs": [],
   "source": []
  }
 ],
 "metadata": {
  "kernelspec": {
   "display_name": "Python 3",
   "language": "python",
   "name": "python3"
  },
  "language_info": {
   "codemirror_mode": {
    "name": "ipython",
    "version": 3
   },
   "file_extension": ".py",
   "mimetype": "text/x-python",
   "name": "python",
   "nbconvert_exporter": "python",
   "pygments_lexer": "ipython3",
   "version": "3.6.2"
  }
 },
 "nbformat": 4,
 "nbformat_minor": 2
}
