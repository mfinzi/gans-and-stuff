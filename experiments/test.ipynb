{
 "cells": [
  {
   "cell_type": "code",
   "execution_count": 40,
   "metadata": {},
   "outputs": [
    {
     "name": "stdout",
     "output_type": "stream",
     "text": [
      "The autoreload extension is already loaded. To reload it, use:\n",
      "  %reload_ext autoreload\n"
     ]
    }
   ],
   "source": [
    "import numpy as np\n",
    "import torch, torchvision\n",
    "import torchvision.transforms as transforms\n",
    "from torch.autograd import Variable\n",
    "from matplotlib import pyplot as plt\n",
    "%matplotlib inline\n",
    "%load_ext autoreload\n",
    "%autoreload 2"
   ]
  },
  {
   "cell_type": "code",
   "execution_count": 51,
   "metadata": {},
   "outputs": [],
   "source": []
  },
  {
   "cell_type": "markdown",
   "metadata": {},
   "source": [
    "# Dataset"
   ]
  },
  {
   "cell_type": "code",
   "execution_count": 102,
   "metadata": {},
   "outputs": [
    {
     "name": "stdout",
     "output_type": "stream",
     "text": [
      "Using downloaded and verified file: /scratch/maf388/datasets/svhn/train_32x32.mat\n"
     ]
    }
   ],
   "source": [
    "img_size = 32\n",
    "transform = transforms.Compose(\n",
    "    [transforms.Scale(img_size),\n",
    "     transforms.ToTensor(),\n",
    "     transforms.Normalize((0.5, 0.5, 0.5), (0.5, 0.5, 0.5))])\n",
    "\n",
    "trainset = torchvision.datasets.SVHN(root='/scratch/maf388/datasets/svhn/', split='train',\n",
    "                                        download=True, transform=transform)\n",
    "trainloader = torch.utils.data.DataLoader(trainset, batch_size=50,\n",
    "                                          shuffle=True, num_workers=2)\n",
    "dloaders = (trainloader,None,None,None)\n",
    "\n",
    "savedir = '/scratch/maf388/experiments/svnhbadgan'"
   ]
  },
  {
   "cell_type": "code",
   "execution_count": 103,
   "metadata": {},
   "outputs": [],
   "source": [
    "from bgan.bgan_semi import BGANS\n",
    "from bgan.networkparts import BadGanG, BadGanD\n",
    "gen = BadGanG()\n",
    "dis = BadGanD()\n",
    "bgan = BGANS(gen,dis,dloaders,savedir)"
   ]
  },
  {
   "cell_type": "code",
   "execution_count": null,
   "metadata": {
    "scrolled": false
   },
   "outputs": [
    {
     "name": "stdout",
     "output_type": "stream",
     "text": [
      "[0/100][0/1466] Loss_D: 1.3779                     Loss_G: -0.7020\n",
      "[0/100][177/1466] Loss_D: 0.4325                     Loss_G: -0.2202\n",
      "[0/100][354/1466] Loss_D: 0.1934                     Loss_G: -0.1007\n",
      "[0/100][531/1466] Loss_D: 0.1067                     Loss_G: -0.0564\n",
      "[0/100][708/1466] Loss_D: 0.0678                     Loss_G: -0.0344\n",
      "[0/100][885/1466] Loss_D: 0.0446                     Loss_G: -0.0228\n",
      "[0/100][1062/1466] Loss_D: 0.0312                     Loss_G: -0.0163\n",
      "[0/100][1239/1466] Loss_D: 0.0227                     Loss_G: -0.0118\n",
      "[0/100][1416/1466] Loss_D: 0.0201                     Loss_G: -0.0118\n",
      "[1/100][0/1466] Loss_D: 0.0192                     Loss_G: -0.0107\n",
      "[1/100][177/1466] Loss_D: 0.0140                     Loss_G: -0.0074\n"
     ]
    }
   ],
   "source": [
    "bgan.train()"
   ]
  },
  {
   "cell_type": "code",
   "execution_count": 37,
   "metadata": {},
   "outputs": [
    {
     "name": "stdout",
     "output_type": "stream",
     "text": [
      "a\n"
     ]
    }
   ],
   "source": [
    "print(\"a\")"
   ]
  },
  {
   "cell_type": "code",
   "execution_count": null,
   "metadata": {},
   "outputs": [],
   "source": []
  }
 ],
 "metadata": {
  "kernelspec": {
   "display_name": "Python 3",
   "language": "python",
   "name": "python3"
  },
  "language_info": {
   "codemirror_mode": {
    "name": "ipython",
    "version": 3
   },
   "file_extension": ".py",
   "mimetype": "text/x-python",
   "name": "python",
   "nbconvert_exporter": "python",
   "pygments_lexer": "ipython3",
   "version": "3.5.4"
  }
 },
 "nbformat": 4,
 "nbformat_minor": 2
}
