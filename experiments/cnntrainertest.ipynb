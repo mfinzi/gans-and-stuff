{
 "cells": [
  {
   "cell_type": "code",
   "execution_count": 1,
   "metadata": {},
   "outputs": [],
   "source": [
    "import numpy as np\n",
    "import torch, torchvision\n",
    "import torchvision.transforms as transforms\n",
    "from torch.autograd import Variable\n",
    "from matplotlib import pyplot as plt\n",
    "%matplotlib inline\n",
    "%load_ext autoreload\n",
    "%autoreload 2"
   ]
  },
  {
   "cell_type": "code",
   "execution_count": 81,
   "metadata": {},
   "outputs": [
    {
     "name": "stdout",
     "output_type": "stream",
     "text": [
      "Files already downloaded and verified\n",
      "Files already downloaded and verified\n"
     ]
    }
   ],
   "source": [
    "img_size = 32\n",
    "\n",
    "transform_dev = transforms.Compose(\n",
    "    [transforms.Resize(img_size),\n",
    "     transforms.ToTensor(),\n",
    "     transforms.Normalize((0.5, 0.5, 0.5), (0.5, 0.5, 0.5))])\n",
    "\n",
    "transform_train = transforms.Compose(\n",
    "    [transforms.RandomCrop(32, padding=4),\n",
    "     transforms.RandomHorizontalFlip(),\n",
    "     transform_dev])\n",
    "\n",
    "trainset = torchvision.datasets.CIFAR10(root='/scratch/maf388/datasets/cifar10/', train=True,\n",
    "                                        download=True, transform=transform_train)\n",
    "trainloader = torch.utils.data.DataLoader(trainset, batch_size=64,\n",
    "                                          shuffle=True, num_workers=1)\n",
    "\n",
    "devset = torchvision.datasets.CIFAR10(root='/scratch/maf388/datasets/cifar10/', train=False,\n",
    "                                        download=True, transform=transform_dev)\n",
    "devloader = torch.utils.data.DataLoader(devset, batch_size=64,\n",
    "                                          shuffle=False, num_workers=1)\n",
    "\n",
    "\n",
    "dloaders = (trainloader,devloader,None)\n",
    "\n",
    "savedir = '/scratch/maf388/experiments/cifar10badgan'"
   ]
  },
  {
   "cell_type": "code",
   "execution_count": 82,
   "metadata": {},
   "outputs": [],
   "source": [
    "from bgan.cnnTrainer import CnnTrainer\n",
    "from bgan.networkparts import BadGanD\n",
    "cnn = BadGanD(numClasses=10)\n",
    "trainer = CnnTrainer(cnn,dloaders,savedir,eta=1e-4)"
   ]
  },
  {
   "cell_type": "code",
   "execution_count": 83,
   "metadata": {},
   "outputs": [
    {
     "name": "stdout",
     "output_type": "stream",
     "text": [
      "[  0/60][ 781/782] Train Loss: 1.7535    Train Acc: 0.375   Test Acc: 0.395\n",
      "[  1/60][ 781/782] Train Loss: 1.4013    Train Acc: 0.527   Test Acc: 0.489\n",
      "[  2/60][ 781/782] Train Loss: 1.1931    Train Acc: 0.589   Test Acc: 0.542\n",
      "[  3/60][ 781/782] Train Loss: 1.0536    Train Acc: 0.627   Test Acc: 0.634\n",
      "[  4/60][ 781/782] Train Loss: 0.9207    Train Acc: 0.690   Test Acc: 0.621\n",
      "[  5/60][ 781/782] Train Loss: 0.8789    Train Acc: 0.696   Test Acc: 0.661\n",
      "[  6/60][ 781/782] Train Loss: 0.8586    Train Acc: 0.692   Test Acc: 0.685\n",
      "[  7/60][ 781/782] Train Loss: 0.8976    Train Acc: 0.688   Test Acc: 0.690\n",
      "[  8/60][ 781/782] Train Loss: 0.8556    Train Acc: 0.703   Test Acc: 0.734\n",
      "[  9/60][ 781/782] Train Loss: 0.7772    Train Acc: 0.752   Test Acc: 0.725\n",
      "[ 10/60][ 781/782] Train Loss: 0.5965    Train Acc: 0.804   Test Acc: 0.750\n",
      "[ 11/60][ 781/782] Train Loss: 0.7120    Train Acc: 0.752   Test Acc: 0.681\n",
      "[ 12/60][ 781/782] Train Loss: 0.5503    Train Acc: 0.815   Test Acc: 0.768\n",
      "[ 13/60][ 781/782] Train Loss: 0.4860    Train Acc: 0.830   Test Acc: 0.730\n",
      "[ 14/60][ 781/782] Train Loss: 0.4890    Train Acc: 0.850   Test Acc: 0.752\n",
      "[ 15/60][ 781/782] Train Loss: 0.4948    Train Acc: 0.835   Test Acc: 0.734\n",
      "[ 16/60][ 781/782] Train Loss: 0.5552    Train Acc: 0.795   Test Acc: 0.732\n",
      "[ 17/60][ 781/782] Train Loss: 0.5754    Train Acc: 0.795   Test Acc: 0.799\n",
      "[ 18/60][ 781/782] Train Loss: 0.4332    Train Acc: 0.859   Test Acc: 0.821\n",
      "[ 19/60][ 781/782] Train Loss: 0.5393    Train Acc: 0.824   Test Acc: 0.783\n",
      "[ 20/60][ 781/782] Train Loss: 0.4738    Train Acc: 0.826   Test Acc: 0.821\n",
      "[ 21/60][ 781/782] Train Loss: 0.4715    Train Acc: 0.857   Test Acc: 0.795\n",
      "[ 22/60][ 781/782] Train Loss: 0.4980    Train Acc: 0.837   Test Acc: 0.804\n",
      "[ 23/60][ 781/782] Train Loss: 0.4657    Train Acc: 0.862   Test Acc: 0.792\n",
      "[ 24/60][ 781/782] Train Loss: 0.4108    Train Acc: 0.837   Test Acc: 0.817\n",
      "[ 25/60][ 781/782] Train Loss: 0.4482    Train Acc: 0.828   Test Acc: 0.801\n",
      "[ 26/60][ 781/782] Train Loss: 0.4012    Train Acc: 0.857   Test Acc: 0.812\n",
      "[ 27/60][ 781/782] Train Loss: 0.4035    Train Acc: 0.864   Test Acc: 0.844\n",
      "[ 28/60][ 781/782] Train Loss: 0.3948    Train Acc: 0.864   Test Acc: 0.801\n",
      "[ 29/60][ 781/782] Train Loss: 0.3547    Train Acc: 0.868   Test Acc: 0.828\n",
      "[ 30/60][ 781/782] Train Loss: 0.3301    Train Acc: 0.875   Test Acc: 0.815\n",
      "[ 31/60][ 781/782] Train Loss: 0.3529    Train Acc: 0.893   Test Acc: 0.815\n",
      "[ 32/60][ 781/782] Train Loss: 0.4099    Train Acc: 0.855   Test Acc: 0.821\n",
      "[ 33/60][ 781/782] Train Loss: 0.3817    Train Acc: 0.862   Test Acc: 0.819\n",
      "[ 34/60][ 781/782] Train Loss: 0.3519    Train Acc: 0.884   Test Acc: 0.826\n",
      "[ 35/60][ 781/782] Train Loss: 0.4420    Train Acc: 0.862   Test Acc: 0.821\n",
      "[ 36/60][ 781/782] Train Loss: 0.3218    Train Acc: 0.884   Test Acc: 0.812\n",
      "[ 37/60][ 781/782] Train Loss: 0.3203    Train Acc: 0.871   Test Acc: 0.817\n",
      "[ 38/60][ 781/782] Train Loss: 0.3868    Train Acc: 0.884   Test Acc: 0.835\n",
      "[ 39/60][ 781/782] Train Loss: 0.3936    Train Acc: 0.862   Test Acc: 0.830\n",
      "[ 40/60][ 781/782] Train Loss: 0.2958    Train Acc: 0.904   Test Acc: 0.826\n",
      "[ 41/60][ 781/782] Train Loss: 0.3560    Train Acc: 0.886   Test Acc: 0.828\n",
      "[ 42/60][ 781/782] Train Loss: 0.2569    Train Acc: 0.902   Test Acc: 0.833\n",
      "[ 43/60][ 781/782] Train Loss: 0.3464    Train Acc: 0.868   Test Acc: 0.799\n",
      "[ 44/60][ 781/782] Train Loss: 0.3356    Train Acc: 0.884   Test Acc: 0.866\n",
      "[ 45/60][ 781/782] Train Loss: 0.3125    Train Acc: 0.895   Test Acc: 0.819\n",
      "[ 46/60][ 781/782] Train Loss: 0.3097    Train Acc: 0.888   Test Acc: 0.844\n",
      "[ 47/60][ 781/782] Train Loss: 0.3002    Train Acc: 0.879   Test Acc: 0.877\n",
      "[ 48/60][ 781/782] Train Loss: 0.3260    Train Acc: 0.891   Test Acc: 0.824\n",
      "[ 49/60][ 781/782] Train Loss: 0.2543    Train Acc: 0.902   Test Acc: 0.817\n",
      "[ 50/60][ 781/782] Train Loss: 0.3375    Train Acc: 0.884   Test Acc: 0.828\n",
      "[ 51/60][ 781/782] Train Loss: 0.2802    Train Acc: 0.904   Test Acc: 0.871\n",
      "[ 52/60][ 781/782] Train Loss: 0.2877    Train Acc: 0.915   Test Acc: 0.824\n",
      "[ 53/60][ 781/782] Train Loss: 0.2435    Train Acc: 0.904   Test Acc: 0.839\n",
      "[ 54/60][ 781/782] Train Loss: 0.2681    Train Acc: 0.915   Test Acc: 0.857\n",
      "[ 55/60][ 781/782] Train Loss: 0.2935    Train Acc: 0.900   Test Acc: 0.833\n",
      "[ 56/60][ 781/782] Train Loss: 0.2837    Train Acc: 0.913   Test Acc: 0.871\n",
      "[ 57/60][ 781/782] Train Loss: 0.2581    Train Acc: 0.906   Test Acc: 0.821\n",
      "[ 58/60][ 781/782] Train Loss: 0.2412    Train Acc: 0.946   Test Acc: 0.871\n",
      "[ 59/60][ 781/782] Train Loss: 0.2244    Train Acc: 0.920   Test Acc: 0.859\n"
     ]
    }
   ],
   "source": [
    "trainer.train(60)"
   ]
  },
  {
   "cell_type": "code",
   "execution_count": 2,
   "metadata": {},
   "outputs": [
    {
     "name": "stdout",
     "output_type": "stream",
     "text": [
      "0.3.0\n"
     ]
    }
   ],
   "source": [
    "print(torch.__version__)"
   ]
  },
  {
   "cell_type": "code",
   "execution_count": null,
   "metadata": {},
   "outputs": [],
   "source": []
  }
 ],
 "metadata": {
  "kernelspec": {
   "display_name": "Python 3",
   "language": "python",
   "name": "python3"
  },
  "language_info": {
   "codemirror_mode": {
    "name": "ipython",
    "version": 3
   },
   "file_extension": ".py",
   "mimetype": "text/x-python",
   "name": "python",
   "nbconvert_exporter": "python",
   "pygments_lexer": "ipython3",
   "version": "3.5.4"
  }
 },
 "nbformat": 4,
 "nbformat_minor": 2
}
